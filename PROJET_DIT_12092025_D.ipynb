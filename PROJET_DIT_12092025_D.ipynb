{
 "cells": [
  {
   "cell_type": "markdown",
   "metadata": {
    "id": "Gc0XQmaRETXo"
   },
   "source": [
    "PROJET_DIT\n"
   ]
  },
  {
   "cell_type": "markdown",
   "metadata": {},
   "source": [
    "Chargement des packages"
   ]
  },
  {
   "cell_type": "code",
   "execution_count": 222,
   "metadata": {},
   "outputs": [],
   "source": [
    "\n",
    "# Importation des bibliothèques nécessaires\n",
    "import matplotlib.pyplot as plt\n",
    "import seaborn as sns\n",
    "import pandas as pd\n",
    "import numpy as np\n",
    "from sklearn.tree import DecisionTreeClassifier, plot_tree\n",
    "from sklearn.model_selection import train_test_split,cross_val_score\n",
    "from sklearn.metrics import classification_report\n",
    "import joblib # Pour stocker le modèle\n",
    "from sklearn.ensemble import RandomForestClassifier"
   ]
  },
  {
   "cell_type": "markdown",
   "metadata": {},
   "source": [
    "Base de données insecurite alimentaire"
   ]
  },
  {
   "cell_type": "markdown",
   "metadata": {},
   "source": [
    "Importation et nettoyage des données"
   ]
  },
  {
   "cell_type": "code",
   "execution_count": 223,
   "metadata": {
    "colab": {
     "base_uri": "https://localhost:8080/"
    },
    "executionInfo": {
     "elapsed": 8675,
     "status": "ok",
     "timestamp": 1746188621900,
     "user": {
      "displayName": "daouda dieme",
      "userId": "16090975305300597295"
     },
     "user_tz": 0
    },
    "id": "mT-qfB-sEPRa",
    "outputId": "ca3a2e29-dafd-4c54-999b-736483bad06e"
   },
   "outputs": [
    {
     "name": "stdout",
     "output_type": "stream",
     "text": [
      "Aperçu des données :\n"
     ]
    }
   ],
   "source": [
    "\n",
    "\n",
    "\n",
    "data = pd.read_excel(\"D:/PROJET_DIT-20250506T153458Z-001/MES_PROJETS/model/data/DDDIEMMME.xlsx\", sheet_name=\"Feuil1\")\n",
    "\n",
    "# Aperçu des données\n",
    "print(\"Aperçu des données :\")\n",
    "#print(data.head())\n"
   ]
  },
  {
   "cell_type": "code",
   "execution_count": 224,
   "metadata": {
    "colab": {
     "base_uri": "https://localhost:8080/"
    },
    "executionInfo": {
     "elapsed": 45,
     "status": "ok",
     "timestamp": 1746188624556,
     "user": {
      "displayName": "daouda dieme",
      "userId": "16090975305300597295"
     },
     "user_tz": 0
    },
    "id": "ZAEIPFQXs-N8",
    "outputId": "8b31cab1-47e0-4b09-83f9-5b964118ff7d"
   },
   "outputs": [
    {
     "name": "stdout",
     "output_type": "stream",
     "text": [
      "Valeurs manquantes avant nettoyage:\n",
      "id                                                              7759\n",
      "q100_region                                                     7759\n",
      "q101_departement                                                7759\n",
      "q114_1_situation_matrimoniale_cm                                7765\n",
      "q115_1_cm_souffre_t_il_maladie_chronique                        7765\n",
      "                                                                ... \n",
      "q603_sauter_un_repas                                            7864\n",
      "q604_manger_moins_que_ce_que_vous_auriez_du                     7894\n",
      "q605_1_ne_plus_avoir_de_nourriture_pas_suffisamment_d_argent    7863\n",
      "q606_1_avoir_faim_mais_ne_pas_manger                            7867\n",
      "q607_1_passer_toute_une_journee_sans_manger                     7790\n",
      "Length: 98, dtype: int64\n"
     ]
    }
   ],
   "source": [
    "import numpy as np\n",
    "# 1. Vérifier les valeurs manquantes\n",
    "print(\"Valeurs manquantes avant nettoyage:\")\n",
    "print(data.isnull().sum())"
   ]
  },
  {
   "cell_type": "code",
   "execution_count": 225,
   "metadata": {
    "executionInfo": {
     "elapsed": 47,
     "status": "ok",
     "timestamp": 1746188630994,
     "user": {
      "displayName": "daouda dieme",
      "userId": "16090975305300597295"
     },
     "user_tz": 0
    },
    "id": "T7o9-aB4tC35"
   },
   "outputs": [],
   "source": [
    "# Remplacer les valeurs manquantes par la médiane\n",
    "# pour les colonnes numériques uniquement\n",
    "numeric_cols = data.select_dtypes(include=np.number).columns\n",
    "data[numeric_cols] = data[numeric_cols].fillna(data[numeric_cols].median())\n"
   ]
  },
  {
   "cell_type": "code",
   "execution_count": 226,
   "metadata": {
    "colab": {
     "base_uri": "https://localhost:8080/"
    },
    "executionInfo": {
     "elapsed": 112,
     "status": "ok",
     "timestamp": 1746188633050,
     "user": {
      "displayName": "daouda dieme",
      "userId": "16090975305300597295"
     },
     "user_tz": 0
    },
    "id": "IiT3yskLtCul",
    "outputId": "9f022586-00cf-4c1e-b08a-29f196c62f08"
   },
   "outputs": [
    {
     "name": "stdout",
     "output_type": "stream",
     "text": [
      "Nombre de doublons avant suppression: 7518\n"
     ]
    }
   ],
   "source": [
    "# 2. Suppression des doublons\n",
    "print(f\"Nombre de doublons avant suppression: {data.duplicated().sum()}\")\n",
    "data.drop_duplicates(inplace=True)"
   ]
  },
  {
   "cell_type": "code",
   "execution_count": 227,
   "metadata": {
    "executionInfo": {
     "elapsed": 67,
     "status": "ok",
     "timestamp": 1746188634941,
     "user": {
      "displayName": "daouda dieme",
      "userId": "16090975305300597295"
     },
     "user_tz": 0
    },
    "id": "kStyDB7gjyUS"
   },
   "outputs": [],
   "source": [
    "# 3. Traitement des valeurs aberrantes\n",
    "# Remplacer les valeurs aberrantes par la médiane ou les supprimer\n",
    "import numpy as np\n",
    "\n",
    "for colonne in data.select_dtypes(include=np.number).columns:\n",
    "    seuil_min, seuil_max = data[colonne].quantile(0.05), data[colonne].quantile(0.95)\n",
    "    data[colonne] = np.where((data[colonne] < seuil_min) | (data[colonne] > seuil_max),\n",
    "                             data[colonne].median(),\n",
    "                             data[colonne])\n"
   ]
  },
  {
   "cell_type": "code",
   "execution_count": null,
   "metadata": {
    "colab": {
     "base_uri": "https://localhost:8080/"
    },
    "executionInfo": {
     "elapsed": 7,
     "status": "ok",
     "timestamp": 1746186743706,
     "user": {
      "displayName": "daouda dieme",
      "userId": "16090975305300597295"
     },
     "user_tz": 0
    },
    "id": "CskNn4_Chm0m",
    "outputId": "757920b0-4892-411c-9d6a-47ede0c5e278"
   },
   "outputs": [
    {
     "data": {
      "text/plain": [
       "(5054, 98)"
      ]
     },
     "execution_count": 6,
     "metadata": {},
     "output_type": "execute_result"
    }
   ],
   "source": [
    "data.shape"
   ]
  },
  {
   "cell_type": "markdown",
   "metadata": {
    "id": "Czwj_za2NPvd"
   },
   "source": [
    "NORMALISATION DES VARIABLE NUMERIQUE"
   ]
  },
  {
   "cell_type": "code",
   "execution_count": 228,
   "metadata": {
    "executionInfo": {
     "elapsed": 97,
     "status": "ok",
     "timestamp": 1746188640904,
     "user": {
      "displayName": "daouda dieme",
      "userId": "16090975305300597295"
     },
     "user_tz": 0
    },
    "id": "cmvcurrKF_nH"
   },
   "outputs": [],
   "source": [
    "from sklearn.preprocessing import LabelEncoder\n",
    "\n",
    "label_encoder = LabelEncoder()\n",
    "for col in data.select_dtypes(include=['object']).columns:  # Sélectionner les colonnes non numériques\n",
    "    # Convert the column to string type before applying LabelEncoder\n",
    "    data[col] = data[col].astype(str)\n",
    "    data[col] = label_encoder.fit_transform(data[col])"
   ]
  },
  {
   "cell_type": "code",
   "execution_count": 229,
   "metadata": {
    "executionInfo": {
     "elapsed": 7,
     "status": "ok",
     "timestamp": 1746188642824,
     "user": {
      "displayName": "daouda dieme",
      "userId": "16090975305300597295"
     },
     "user_tz": 0
    },
    "id": "BYWTUrb_MvXN"
   },
   "outputs": [],
   "source": [
    "from sklearn.preprocessing import OneHotEncoder\n",
    "\n",
    "# Appliquer OneHotEncoder\n",
    "# Replace 'sparse' with 'sparse_output'\n",
    "from sklearn.preprocessing import OneHotEncoder\n",
    "\n",
    "# Appliquer OneHotEncoder\n",
    "# Replace 'sparse' with 'sparse_output'\n",
    "one_hot_encoder = OneHotEncoder(sparse_output=False)\n",
    "data_encoded = one_hot_encoder.fit_transform(data.select_dtypes(include=['object']))\n",
    "data_encoded = pd.DataFrame(data_encoded, columns=one_hot_encoder.get_feature_names_out(data.select_dtypes(include=['object']).columns))"
   ]
  },
  {
   "cell_type": "code",
   "execution_count": 230,
   "metadata": {
    "executionInfo": {
     "elapsed": 30,
     "status": "ok",
     "timestamp": 1746188647837,
     "user": {
      "displayName": "daouda dieme",
      "userId": "16090975305300597295"
     },
     "user_tz": 0
    },
    "id": "TiD1jbuPNO6W"
   },
   "outputs": [],
   "source": [
    "from sklearn.preprocessing import StandardScaler\n",
    "\n",
    "scaler = StandardScaler()\n",
    "data[data.select_dtypes(include=['float', 'int']).columns] = scaler.fit_transform(data.select_dtypes(include=['float', 'int']))\n"
   ]
  },
  {
   "cell_type": "code",
   "execution_count": 231,
   "metadata": {
    "colab": {
     "base_uri": "https://localhost:8080/"
    },
    "executionInfo": {
     "elapsed": 1756,
     "status": "ok",
     "timestamp": 1746188651313,
     "user": {
      "displayName": "daouda dieme",
      "userId": "16090975305300597295"
     },
     "user_tz": 0
    },
    "id": "o1do14DqNhwa",
    "outputId": "9121beee-60f6-4d59-8915-419be9820d1b"
   },
   "outputs": [
    {
     "name": "stdout",
     "output_type": "stream",
     "text": [
      "Le fichier a été enregistré avec succès dans le répertoire de votre projet.\n"
     ]
    }
   ],
   "source": [
    "# Enregistrer le dataset encodé\n",
    "chemin_projet = \"D:/PROJET_DIT-20250506T153458Z-001/MES_PROJETS/\"  # Remplacez par le chemin de votre répertoire\n",
    "data.to_csv(chemin_projet + \"data_encoded_1.csv\", index=False)\n",
    "\n",
    "print(\"Le fichier a été enregistré avec succès dans le répertoire de votre projet.\")\n",
    "\n"
   ]
  },
  {
   "cell_type": "code",
   "execution_count": 232,
   "metadata": {
    "colab": {
     "base_uri": "https://localhost:8080/"
    },
    "executionInfo": {
     "elapsed": 161,
     "status": "ok",
     "timestamp": 1746188656059,
     "user": {
      "displayName": "daouda dieme",
      "userId": "16090975305300597295"
     },
     "user_tz": 0
    },
    "id": "RXhBpkS1OOl7",
    "outputId": "bfc40170-8962-4185-a5d7-8972bd0d2c39"
   },
   "outputs": [
    {
     "name": "stdout",
     "output_type": "stream",
     "text": [
      "Aperçu du fichier encodé :\n"
     ]
    }
   ],
   "source": [
    "import pandas as pd\n",
    "\n",
    "# Charger le fichier encodé\n",
    "chemin_projet = \"D:/PROJET_DIT-20250506T153458Z-001/MES_PROJETS/\"\n",
    "data_encoded = pd.read_csv(chemin_projet + \"data_encoded_1.csv\")\n",
    "\n",
    "# Vérification rapide\n",
    "print(\"Aperçu du fichier encodé :\")\n",
    "#print(data_encoded.head())\n",
    "#print(\"Colonnes disponibles :\", data_encoded.columns)"
   ]
  },
  {
   "cell_type": "code",
   "execution_count": 32,
   "metadata": {
    "colab": {
     "base_uri": "https://localhost:8080/"
    },
    "executionInfo": {
     "elapsed": 8,
     "status": "ok",
     "timestamp": 1746097831312,
     "user": {
      "displayName": "daouda dieme",
      "userId": "16090975305300597295"
     },
     "user_tz": 0
    },
    "id": "q5gD11q-PCTp",
    "outputId": "6c5f709e-2293-4c32-b158-5792d5707edf"
   },
   "outputs": [
    {
     "data": {
      "text/plain": [
       "(5054, 98)"
      ]
     },
     "execution_count": 32,
     "metadata": {},
     "output_type": "execute_result"
    }
   ],
   "source": [
    "data_encoded.shape"
   ]
  },
  {
   "cell_type": "code",
   "execution_count": 233,
   "metadata": {
    "colab": {
     "base_uri": "https://localhost:8080/",
     "height": 255
    },
    "executionInfo": {
     "elapsed": 76,
     "status": "ok",
     "timestamp": 1746188661024,
     "user": {
      "displayName": "daouda dieme",
      "userId": "16090975305300597295"
     },
     "user_tz": 0
    },
    "id": "dVDpdS9PWIWK",
    "outputId": "c2572e30-f1c8-498a-f388-0d48f4f28372"
   },
   "outputs": [
    {
     "data": {
      "text/html": [
       "<div>\n",
       "<style scoped>\n",
       "    .dataframe tbody tr th:only-of-type {\n",
       "        vertical-align: middle;\n",
       "    }\n",
       "\n",
       "    .dataframe tbody tr th {\n",
       "        vertical-align: top;\n",
       "    }\n",
       "\n",
       "    .dataframe thead th {\n",
       "        text-align: right;\n",
       "    }\n",
       "</style>\n",
       "<table border=\"1\" class=\"dataframe\">\n",
       "  <thead>\n",
       "    <tr style=\"text-align: right;\">\n",
       "      <th></th>\n",
       "      <th>q100_region</th>\n",
       "      <th>q101_departement</th>\n",
       "      <th>q114_1_situation_matrimoniale_cm</th>\n",
       "      <th>q115_1_cm_souffre_t_il_maladie_chronique</th>\n",
       "      <th>q116_0_taille_menage</th>\n",
       "      <th>q206_1_type_toilette_utilise</th>\n",
       "      <th>q207_1_principale_source_energie_cuisson</th>\n",
       "      <th>q208_1_principale_source_energie_eclairage</th>\n",
       "      <th>q209_1_principale_source_eau_boisson</th>\n",
       "      <th>q210_1_principal_mode_evacuation_dechets_solides</th>\n",
       "      <th>...</th>\n",
       "      <th>CATEGORIE_SOCIA_ECO</th>\n",
       "      <th>HAUTEUR_PARTICIPATION</th>\n",
       "      <th>q600_inquiets_de_ne_pas_avoir_suffisamment_de_nourriture</th>\n",
       "      <th>q601_ne_pas_manger_nourriture_saine_nutritive</th>\n",
       "      <th>q602_manger_nourriture_peu_variee</th>\n",
       "      <th>q603_sauter_un_repas</th>\n",
       "      <th>q604_manger_moins_que_ce_que_vous_auriez_du</th>\n",
       "      <th>q605_1_ne_plus_avoir_de_nourriture_pas_suffisamment_d_argent</th>\n",
       "      <th>q606_1_avoir_faim_mais_ne_pas_manger</th>\n",
       "      <th>q607_1_passer_toute_une_journee_sans_manger</th>\n",
       "    </tr>\n",
       "  </thead>\n",
       "  <tbody>\n",
       "    <tr>\n",
       "      <th>0</th>\n",
       "      <td>1.656339</td>\n",
       "      <td>1.651499</td>\n",
       "      <td>-0.354250</td>\n",
       "      <td>-0.562660</td>\n",
       "      <td>-1.295435</td>\n",
       "      <td>-0.399249</td>\n",
       "      <td>-0.549378</td>\n",
       "      <td>-1.365380</td>\n",
       "      <td>-0.048352</td>\n",
       "      <td>0.222399</td>\n",
       "      <td>...</td>\n",
       "      <td>-1.413592</td>\n",
       "      <td>-0.117391</td>\n",
       "      <td>0.506177</td>\n",
       "      <td>-0.742363</td>\n",
       "      <td>-0.674202</td>\n",
       "      <td>-0.512962</td>\n",
       "      <td>-0.573903</td>\n",
       "      <td>-0.384793</td>\n",
       "      <td>-0.399684</td>\n",
       "      <td>-0.327659</td>\n",
       "    </tr>\n",
       "    <tr>\n",
       "      <th>1</th>\n",
       "      <td>1.656339</td>\n",
       "      <td>1.651499</td>\n",
       "      <td>-0.354250</td>\n",
       "      <td>-0.562660</td>\n",
       "      <td>-0.149309</td>\n",
       "      <td>-0.399249</td>\n",
       "      <td>-0.549378</td>\n",
       "      <td>-1.365380</td>\n",
       "      <td>-0.048352</td>\n",
       "      <td>0.222399</td>\n",
       "      <td>...</td>\n",
       "      <td>-0.393489</td>\n",
       "      <td>-0.117391</td>\n",
       "      <td>0.506177</td>\n",
       "      <td>-0.742363</td>\n",
       "      <td>-0.674202</td>\n",
       "      <td>-0.512962</td>\n",
       "      <td>-0.573903</td>\n",
       "      <td>-0.384793</td>\n",
       "      <td>-0.399684</td>\n",
       "      <td>-0.327659</td>\n",
       "    </tr>\n",
       "    <tr>\n",
       "      <th>2</th>\n",
       "      <td>1.656339</td>\n",
       "      <td>1.651499</td>\n",
       "      <td>-1.628542</td>\n",
       "      <td>1.532907</td>\n",
       "      <td>-0.149309</td>\n",
       "      <td>1.009340</td>\n",
       "      <td>-0.549378</td>\n",
       "      <td>-1.365380</td>\n",
       "      <td>1.345412</td>\n",
       "      <td>0.222399</td>\n",
       "      <td>...</td>\n",
       "      <td>-0.393489</td>\n",
       "      <td>-0.117391</td>\n",
       "      <td>-0.770380</td>\n",
       "      <td>-0.742363</td>\n",
       "      <td>-0.674202</td>\n",
       "      <td>-0.512962</td>\n",
       "      <td>-0.573903</td>\n",
       "      <td>-0.384793</td>\n",
       "      <td>-0.399684</td>\n",
       "      <td>-0.327659</td>\n",
       "    </tr>\n",
       "    <tr>\n",
       "      <th>3</th>\n",
       "      <td>1.656339</td>\n",
       "      <td>1.651499</td>\n",
       "      <td>0.920042</td>\n",
       "      <td>-0.562660</td>\n",
       "      <td>1.226042</td>\n",
       "      <td>-0.399249</td>\n",
       "      <td>1.050021</td>\n",
       "      <td>0.904005</td>\n",
       "      <td>-0.512941</td>\n",
       "      <td>0.222399</td>\n",
       "      <td>...</td>\n",
       "      <td>0.626615</td>\n",
       "      <td>-0.117391</td>\n",
       "      <td>-0.770380</td>\n",
       "      <td>-0.742363</td>\n",
       "      <td>-0.674202</td>\n",
       "      <td>-0.512962</td>\n",
       "      <td>-0.573903</td>\n",
       "      <td>-0.384793</td>\n",
       "      <td>-0.399684</td>\n",
       "      <td>-0.327659</td>\n",
       "    </tr>\n",
       "    <tr>\n",
       "      <th>4</th>\n",
       "      <td>1.656339</td>\n",
       "      <td>1.651499</td>\n",
       "      <td>-0.354250</td>\n",
       "      <td>-0.562660</td>\n",
       "      <td>-1.066210</td>\n",
       "      <td>-0.399249</td>\n",
       "      <td>-0.549378</td>\n",
       "      <td>-1.365380</td>\n",
       "      <td>-0.048352</td>\n",
       "      <td>1.561294</td>\n",
       "      <td>...</td>\n",
       "      <td>0.626615</td>\n",
       "      <td>-0.117391</td>\n",
       "      <td>-0.770380</td>\n",
       "      <td>-0.742363</td>\n",
       "      <td>-0.674202</td>\n",
       "      <td>-0.512962</td>\n",
       "      <td>-0.573903</td>\n",
       "      <td>-0.384793</td>\n",
       "      <td>-0.399684</td>\n",
       "      <td>-0.327659</td>\n",
       "    </tr>\n",
       "  </tbody>\n",
       "</table>\n",
       "<p>5 rows × 97 columns</p>\n",
       "</div>"
      ],
      "text/plain": [
       "   q100_region  q101_departement  q114_1_situation_matrimoniale_cm  \\\n",
       "0     1.656339          1.651499                         -0.354250   \n",
       "1     1.656339          1.651499                         -0.354250   \n",
       "2     1.656339          1.651499                         -1.628542   \n",
       "3     1.656339          1.651499                          0.920042   \n",
       "4     1.656339          1.651499                         -0.354250   \n",
       "\n",
       "   q115_1_cm_souffre_t_il_maladie_chronique  q116_0_taille_menage  \\\n",
       "0                                 -0.562660             -1.295435   \n",
       "1                                 -0.562660             -0.149309   \n",
       "2                                  1.532907             -0.149309   \n",
       "3                                 -0.562660              1.226042   \n",
       "4                                 -0.562660             -1.066210   \n",
       "\n",
       "   q206_1_type_toilette_utilise  q207_1_principale_source_energie_cuisson  \\\n",
       "0                     -0.399249                                 -0.549378   \n",
       "1                     -0.399249                                 -0.549378   \n",
       "2                      1.009340                                 -0.549378   \n",
       "3                     -0.399249                                  1.050021   \n",
       "4                     -0.399249                                 -0.549378   \n",
       "\n",
       "   q208_1_principale_source_energie_eclairage  \\\n",
       "0                                   -1.365380   \n",
       "1                                   -1.365380   \n",
       "2                                   -1.365380   \n",
       "3                                    0.904005   \n",
       "4                                   -1.365380   \n",
       "\n",
       "   q209_1_principale_source_eau_boisson  \\\n",
       "0                             -0.048352   \n",
       "1                             -0.048352   \n",
       "2                              1.345412   \n",
       "3                             -0.512941   \n",
       "4                             -0.048352   \n",
       "\n",
       "   q210_1_principal_mode_evacuation_dechets_solides  ...  CATEGORIE_SOCIA_ECO  \\\n",
       "0                                          0.222399  ...            -1.413592   \n",
       "1                                          0.222399  ...            -0.393489   \n",
       "2                                          0.222399  ...            -0.393489   \n",
       "3                                          0.222399  ...             0.626615   \n",
       "4                                          1.561294  ...             0.626615   \n",
       "\n",
       "   HAUTEUR_PARTICIPATION  \\\n",
       "0              -0.117391   \n",
       "1              -0.117391   \n",
       "2              -0.117391   \n",
       "3              -0.117391   \n",
       "4              -0.117391   \n",
       "\n",
       "   q600_inquiets_de_ne_pas_avoir_suffisamment_de_nourriture  \\\n",
       "0                                           0.506177          \n",
       "1                                           0.506177          \n",
       "2                                          -0.770380          \n",
       "3                                          -0.770380          \n",
       "4                                          -0.770380          \n",
       "\n",
       "   q601_ne_pas_manger_nourriture_saine_nutritive  \\\n",
       "0                                      -0.742363   \n",
       "1                                      -0.742363   \n",
       "2                                      -0.742363   \n",
       "3                                      -0.742363   \n",
       "4                                      -0.742363   \n",
       "\n",
       "   q602_manger_nourriture_peu_variee  q603_sauter_un_repas  \\\n",
       "0                          -0.674202             -0.512962   \n",
       "1                          -0.674202             -0.512962   \n",
       "2                          -0.674202             -0.512962   \n",
       "3                          -0.674202             -0.512962   \n",
       "4                          -0.674202             -0.512962   \n",
       "\n",
       "   q604_manger_moins_que_ce_que_vous_auriez_du  \\\n",
       "0                                    -0.573903   \n",
       "1                                    -0.573903   \n",
       "2                                    -0.573903   \n",
       "3                                    -0.573903   \n",
       "4                                    -0.573903   \n",
       "\n",
       "   q605_1_ne_plus_avoir_de_nourriture_pas_suffisamment_d_argent  \\\n",
       "0                                          -0.384793              \n",
       "1                                          -0.384793              \n",
       "2                                          -0.384793              \n",
       "3                                          -0.384793              \n",
       "4                                          -0.384793              \n",
       "\n",
       "   q606_1_avoir_faim_mais_ne_pas_manger  \\\n",
       "0                             -0.399684   \n",
       "1                             -0.399684   \n",
       "2                             -0.399684   \n",
       "3                             -0.399684   \n",
       "4                             -0.399684   \n",
       "\n",
       "   q607_1_passer_toute_une_journee_sans_manger  \n",
       "0                                    -0.327659  \n",
       "1                                    -0.327659  \n",
       "2                                    -0.327659  \n",
       "3                                    -0.327659  \n",
       "4                                    -0.327659  \n",
       "\n",
       "[5 rows x 97 columns]"
      ]
     },
     "execution_count": 233,
     "metadata": {},
     "output_type": "execute_result"
    }
   ],
   "source": [
    "# Suppression des colonnes\n",
    "data = data_encoded.drop(['id'], axis=1)\n",
    "data.head()"
   ]
  },
  {
   "cell_type": "code",
   "execution_count": 234,
   "metadata": {
    "colab": {
     "base_uri": "https://localhost:8080/"
    },
    "executionInfo": {
     "elapsed": 104,
     "status": "ok",
     "timestamp": 1746188666206,
     "user": {
      "displayName": "daouda dieme",
      "userId": "16090975305300597295"
     },
     "user_tz": 0
    },
    "id": "tFU07tIuWrQR",
    "outputId": "2fd64adc-70df-4484-cbbe-8b246caa9ed4"
   },
   "outputs": [],
   "source": [
    "import pandas as pd\n",
    "\n",
    "# Étape 1 : Définir la variable cible 'insécurité_alimentaire'\n",
    "def definir_insécurité_alimentaire(row):\n",
    "    # Insécurité sévère : au moins 1 privation critique avec score > 1.5\n",
    "    if sum(row[col] > 1.5 for col in [\n",
    "        'q605_1_ne_plus_avoir_de_nourriture_pas_suffisamment_d_argent',\n",
    "        'q606_1_avoir_faim_mais_ne_pas_manger',\n",
    "        'q607_1_passer_toute_une_journee_sans_manger'\n",
    "    ]) >= 1:\n",
    "        return 2\n",
    "    # Insécurité modérée : au moins 2 privations légères/modérées avec score entre 0 et 1.5\n",
    "    elif sum(0 < row[col] <= 1.5 for col in [\n",
    "        'q600_inquiets_de_ne_pas_avoir_suffisamment_de_nourriture',\n",
    "        'q601_ne_pas_manger_nourriture_saine_nutritive',\n",
    "        'q602_manger_nourriture_peu_variee',\n",
    "        'q603_sauter_un_repas',\n",
    "        'q604_manger_moins_que_ce_que_vous_auriez_du'\n",
    "    ]) >= 2:\n",
    "        return 1\n",
    "    # Aucune insécurité\n",
    "    else:\n",
    "        return 0\n",
    "\n"
   ]
  },
  {
   "cell_type": "markdown",
   "metadata": {
    "id": "HqbgGatSY1G9"
   },
   "source": [
    " PREPARATION DES DONNEES POUR LE MODELE"
   ]
  },
  {
   "cell_type": "code",
   "execution_count": 235,
   "metadata": {
    "colab": {
     "base_uri": "https://localhost:8080/"
    },
    "executionInfo": {
     "elapsed": 119,
     "status": "ok",
     "timestamp": 1746188678737,
     "user": {
      "displayName": "daouda dieme",
      "userId": "16090975305300597295"
     },
     "user_tz": 0
    },
    "id": "VCToJZfkh3x9",
    "outputId": "d29e3325-c682-450c-a782-a77547f801d5"
   },
   "outputs": [
    {
     "name": "stdout",
     "output_type": "stream",
     "text": [
      "🔍 Les 10 variables les plus corrélées :\n",
      "q606_1_avoir_faim_mais_ne_pas_manger                            0.858615\n",
      "q605_1_ne_plus_avoir_de_nourriture_pas_suffisamment_d_argent    0.856696\n",
      "q604_manger_moins_que_ce_que_vous_auriez_du                     0.785990\n",
      "q607_1_passer_toute_une_journee_sans_manger                     0.785577\n",
      "q207_1_principale_source_energie_cuisson                        0.779022\n",
      "q603_sauter_un_repas                                            0.763022\n",
      "PRATIQUE_PECHE                                                  0.757170\n",
      "MILIEU_RESIDENCE                                                0.685704\n",
      "q602_manger_nourriture_peu_variee                               0.682958\n",
      "q601_ne_pas_manger_nourriture_saine_nutritive                   0.674741\n",
      "Name: insécurité_alimentaire, dtype: float64\n",
      "📊 Nouveau dataset réduit :\n"
     ]
    }
   ],
   "source": [
    "# Étape 2 : Appliquer la fonction au DataFrame encodé\n",
    "data['insécurité_alimentaire'] = data_encoded.apply(definir_insécurité_alimentaire, axis=1)\n",
    "\n",
    "# Étape 3 : Filtrer les cas modérés ou sévères\n",
    "data_filtrée = data[data['insécurité_alimentaire'].isin([1, 2])]\n",
    "data_encoded_filtré = data_encoded.loc[data_filtrée.index]  # Garder les mêmes lignes dans le dataset encodé\n",
    "\n",
    "# Étape 4 : Calculer les corrélations avec la variable cible\n",
    "data_encoded_filtré['insécurité_alimentaire'] = data_filtrée['insécurité_alimentaire']  # Ajouter la cible\n",
    "correlations = data_encoded_filtré.corr()\n",
    "\n",
    "# Étape 5 : Sélectionner les 10 variables les plus corrélées\n",
    "top_features = correlations['insécurité_alimentaire'].abs().sort_values(ascending=False).iloc[1:11]\n",
    "print(\"🔍 Les 10 variables les plus corrélées :\")\n",
    "print(top_features)\n",
    "\n",
    "# Étape 6 : Créer un nouveau dataset avec ces variables + la cible\n",
    "top_features_names = top_features.index.tolist()\n",
    "data_reduced = data_encoded_filtré[top_features_names + ['insécurité_alimentaire']]\n",
    "print(\"📊 Nouveau dataset réduit :\")\n",
    "#print(data_reduced.head())\n"
   ]
  },
  {
   "cell_type": "code",
   "execution_count": 236,
   "metadata": {
    "executionInfo": {
     "elapsed": 5,
     "status": "ok",
     "timestamp": 1746188684993,
     "user": {
      "displayName": "daouda dieme",
      "userId": "16090975305300597295"
     },
     "user_tz": 0
    },
    "id": "KPQu62SMIk5t"
   },
   "outputs": [],
   "source": [
    "# Variables explicatives (features) et cible (target)\n",
    "X = data_reduced.drop(columns=['insécurité_alimentaire'])  # Toutes les colonnes sauf la cible\n",
    "y = data_reduced['insécurité_alimentaire']  # La variable cible # Corrected typo: data_reduce to data_reduced"
   ]
  },
  {
   "cell_type": "markdown",
   "metadata": {},
   "source": [
    "DIVISION EN TRAIN TEST DU DATASET"
   ]
  },
  {
   "cell_type": "code",
   "execution_count": 237,
   "metadata": {
    "colab": {
     "base_uri": "https://localhost:8080/"
    },
    "executionInfo": {
     "elapsed": 19,
     "status": "ok",
     "timestamp": 1746188686608,
     "user": {
      "displayName": "daouda dieme",
      "userId": "16090975305300597295"
     },
     "user_tz": 0
    },
    "id": "7qAKAAW1IuCc",
    "outputId": "d0bacd9a-cb4a-4f66-cef7-3a1de631aeb4"
   },
   "outputs": [
    {
     "name": "stdout",
     "output_type": "stream",
     "text": [
      "Taille de l'ensemble d'entraînement : (2079, 10)\n",
      "Taille de l'ensemble de test : (520, 10)\n"
     ]
    }
   ],
   "source": [
    "from sklearn.model_selection import train_test_split\n",
    "\n",
    "# Division 80% entraînement, 20% test\n",
    "X_train, X_test, y_train, y_test = train_test_split(X, y, test_size=0.2, random_state=42)\n",
    "\n",
    "# Vérifier les tailles des ensembles\n",
    "print(\"Taille de l'ensemble d'entraînement :\", X_train.shape)\n",
    "print(\"Taille de l'ensemble de test :\", X_test.shape)\n"
   ]
  },
  {
   "cell_type": "code",
   "execution_count": 238,
   "metadata": {},
   "outputs": [],
   "source": [
    "# Remapping des classes : 1 → 0 (modérée), 2 → 1 (sévère)\n",
    "y_train_mapped = y_train.replace({1: 0, 2: 1})\n",
    "y_test_mapped = y_test.replace({1: 0, 2: 1})\n"
   ]
  },
  {
   "cell_type": "markdown",
   "metadata": {},
   "source": [
    "ENTRAINEMENT 1 DU MODELE"
   ]
  },
  {
   "cell_type": "code",
   "execution_count": null,
   "metadata": {},
   "outputs": [
    {
     "name": "stdout",
     "output_type": "stream",
     "text": [
      "✅ 5 variables sélectionnées : ['q207_1_principale_source_energie_cuisson', 'q603_sauter_un_repas', 'q604_manger_moins_que_ce_que_vous_auriez_du', 'q605_1_ne_plus_avoir_de_nourriture_pas_suffisamment_d_argent', 'q606_1_avoir_faim_mais_ne_pas_manger']\n",
      "📊 Rapport après sélection des 7 features :\n",
      "              precision    recall  f1-score   support\n",
      "\n",
      "           0       0.99      1.00      1.00       439\n",
      "           1       1.00      0.96      0.98        81\n",
      "\n",
      "    accuracy                           0.99       520\n",
      "   macro avg       1.00      0.98      0.99       520\n",
      "weighted avg       0.99      0.99      0.99       520\n",
      "\n",
      "✅ Score moyen CV (Random Forest 5 features) : 0.9957\n"
     ]
    }
   ],
   "source": [
    "import pandas as pd\n",
    "import numpy as np\n",
    "from sklearn.ensemble import RandomForestClassifier\n",
    "from sklearn.model_selection import cross_val_score\n",
    "from sklearn.metrics import classification_report\n",
    "\n",
    "# 🔁 Modèle de base\n",
    "rf = RandomForestClassifier(\n",
    "    n_estimators=100,\n",
    "    max_depth=4,\n",
    "    min_samples_leaf=10,\n",
    "    max_features='sqrt',\n",
    "    class_weight='balanced',\n",
    "    random_state=42\n",
    ")\n",
    "\n",
    "rf.fit(X_train, y_train_mapped)\n",
    "\n",
    "# 🔍 Étape 1 : extraire les importances\n",
    "importances = rf.feature_importances_\n",
    "feature_names = X_train.columns\n",
    "\n",
    "# 🔍 Étape 2 : sélectionner les 5 variables les plus importantes\n",
    "indices_top5 = np.argsort(importances)[-5:]  # indices des 5 plus importantes\n",
    "selected_features = feature_names[indices_top5]\n",
    "\n",
    "print(\"✅ 5 variables sélectionnées :\", selected_features.tolist())\n",
    "\n",
    "# ✅ Étape 3 : reconstruire les DataFrames\n",
    "X_train_selected_df = X_train[selected_features]\n",
    "X_test_selected_df = X_test[selected_features]\n",
    "\n",
    "# 🔁 Réentraînement avec les 5 variables\n",
    "rf_selected = RandomForestClassifier(n_estimators=100, random_state=42)\n",
    "rf_selected.fit(X_train_selected_df, y_train_mapped)\n",
    "preds = rf_selected.predict(X_test_selected_df)\n",
    "\n",
    "# 📊 Évaluation\n",
    "print(\"📊 Rapport après sélection des 7 features :\")\n",
    "print(classification_report(y_test_mapped, preds))\n",
    "\n",
    "# 🔍 Validation croisée\n",
    "cv_scores = cross_val_score(rf_selected, X_train_selected_df, y_train_mapped, cv=5, scoring='accuracy')\n",
    "print(f\"✅ Score moyen CV (Random Forest 5 features) : {cv_scores.mean():.4f}\")\n"
   ]
  },
  {
   "cell_type": "code",
   "execution_count": 243,
   "metadata": {},
   "outputs": [
    {
     "data": {
      "image/png": "[encoded data removed]",
      "text/plain": [
       "<Figure size 800x600 with 1 Axes>"
      ]
     },
     "metadata": {},
     "output_type": "display_data"
    }
   ],
   "source": [
    "import matplotlib.pyplot as plt\n",
    "from sklearn.metrics import roc_curve, auc\n",
    "\n",
    "# Prédictions des probabilités\n",
    "y_train_proba = rf_selected.predict_proba(X_train_selected_df)[:, 1]\n",
    "y_test_proba = rf_selected.predict_proba(X_test_selected_df)[:, 1]\n",
    "\n",
    "# Courbes ROC\n",
    "fpr_train, tpr_train, _ = roc_curve(y_train_mapped, y_train_proba)\n",
    "fpr_test, tpr_test, _ = roc_curve(y_test_mapped, y_test_proba)\n",
    "\n",
    "# AUC\n",
    "auc_train = auc(fpr_train, tpr_train)\n",
    "auc_test = auc(fpr_test, tpr_test)\n",
    "\n",
    "# 🎨 Affichage\n",
    "plt.figure(figsize=(8, 6))\n",
    "plt.plot(fpr_train, tpr_train, label=f\"Ensemble d'entraînement (AUC = {auc_train:.2f})\", color='blue')\n",
    "plt.plot(fpr_test, tpr_test, label=f\"Ensemble de test (AUC = {auc_test:.2f})\", color='orange')\n",
    "plt.plot([0, 1], [0, 1], linestyle='--', color='gray', label='Classifieur aléatoire')\n",
    "\n",
    "plt.title(\"Courbe ROC\", fontsize=14)\n",
    "plt.xlabel(\"Taux de faux positifs (FPR)\")\n",
    "plt.ylabel(\"Taux de vrais positifs (TPR)\")\n",
    "plt.legend(loc=\"lower right\")\n",
    "plt.grid(True)\n",
    "plt.tight_layout()\n",
    "plt.show()\n"
   ]
  },
  {
   "cell_type": "markdown",
   "metadata": {},
   "source": [
    "ENTRAINEMENT 2 DU MODELE"
   ]
  },
  {
   "cell_type": "code",
   "execution_count": 251,
   "metadata": {},
   "outputs": [
    {
     "name": "stderr",
     "output_type": "stream",
     "text": [
      "d:\\PROJET_DIT-20250506T153458Z-001\\MES_PROJETS\\.venv\\Lib\\site-packages\\sklearn\\utils\\validation.py:2742: UserWarning: X has feature names, but SelectFromModel was fitted without feature names\n",
      "  warnings.warn(\n",
      "d:\\PROJET_DIT-20250506T153458Z-001\\MES_PROJETS\\.venv\\Lib\\site-packages\\sklearn\\utils\\validation.py:2742: UserWarning: X has feature names, but SelectFromModel was fitted without feature names\n",
      "  warnings.warn(\n",
      "d:\\PROJET_DIT-20250506T153458Z-001\\MES_PROJETS\\.venv\\Lib\\site-packages\\xgboost\\training.py:183: UserWarning: [12:16:27] WARNING: C:\\actions-runner\\_work\\xgboost\\xgboost\\src\\learner.cc:738: \n",
      "Parameters: { \"use_label_encoder\" } are not used.\n",
      "\n",
      "  bst.update(dtrain, iteration=i, fobj=obj)\n"
     ]
    },
    {
     "data": {
      "image/png": "[encoded data removed]",
      "text/plain": [
       "<Figure size 800x600 with 1 Axes>"
      ]
     },
     "metadata": {},
     "output_type": "display_data"
    },
    {
     "name": "stdout",
     "output_type": "stream",
     "text": [
      "📊 Rapport Random Forest :\n",
      "              precision    recall  f1-score   support\n",
      "\n",
      "           0       0.99      1.00      1.00       439\n",
      "           1       1.00      0.96      0.98        81\n",
      "\n",
      "    accuracy                           0.99       520\n",
      "   macro avg       1.00      0.98      0.99       520\n",
      "weighted avg       0.99      0.99      0.99       520\n",
      "\n",
      "📊 Rapport XGBoost :\n",
      "              precision    recall  f1-score   support\n",
      "\n",
      "           0       0.99      1.00      1.00       439\n",
      "           1       1.00      0.96      0.98        81\n",
      "\n",
      "    accuracy                           0.99       520\n",
      "   macro avg       1.00      0.98      0.99       520\n",
      "weighted avg       0.99      0.99      0.99       520\n",
      "\n"
     ]
    },
    {
     "name": "stderr",
     "output_type": "stream",
     "text": [
      "d:\\PROJET_DIT-20250506T153458Z-001\\MES_PROJETS\\.venv\\Lib\\site-packages\\xgboost\\training.py:183: UserWarning: [12:16:30] WARNING: C:\\actions-runner\\_work\\xgboost\\xgboost\\src\\learner.cc:738: \n",
      "Parameters: { \"use_label_encoder\" } are not used.\n",
      "\n",
      "  bst.update(dtrain, iteration=i, fobj=obj)\n",
      "d:\\PROJET_DIT-20250506T153458Z-001\\MES_PROJETS\\.venv\\Lib\\site-packages\\xgboost\\training.py:183: UserWarning: [12:16:31] WARNING: C:\\actions-runner\\_work\\xgboost\\xgboost\\src\\learner.cc:738: \n",
      "Parameters: { \"use_label_encoder\" } are not used.\n",
      "\n",
      "  bst.update(dtrain, iteration=i, fobj=obj)\n",
      "d:\\PROJET_DIT-20250506T153458Z-001\\MES_PROJETS\\.venv\\Lib\\site-packages\\xgboost\\training.py:183: UserWarning: [12:16:31] WARNING: C:\\actions-runner\\_work\\xgboost\\xgboost\\src\\learner.cc:738: \n",
      "Parameters: { \"use_label_encoder\" } are not used.\n",
      "\n",
      "  bst.update(dtrain, iteration=i, fobj=obj)\n",
      "d:\\PROJET_DIT-20250506T153458Z-001\\MES_PROJETS\\.venv\\Lib\\site-packages\\xgboost\\training.py:183: UserWarning: [12:16:32] WARNING: C:\\actions-runner\\_work\\xgboost\\xgboost\\src\\learner.cc:738: \n",
      "Parameters: { \"use_label_encoder\" } are not used.\n",
      "\n",
      "  bst.update(dtrain, iteration=i, fobj=obj)\n",
      "d:\\PROJET_DIT-20250506T153458Z-001\\MES_PROJETS\\.venv\\Lib\\site-packages\\xgboost\\training.py:183: UserWarning: [12:16:32] WARNING: C:\\actions-runner\\_work\\xgboost\\xgboost\\src\\learner.cc:738: \n",
      "Parameters: { \"use_label_encoder\" } are not used.\n",
      "\n",
      "  bst.update(dtrain, iteration=i, fobj=obj)\n"
     ]
    },
    {
     "name": "stdout",
     "output_type": "stream",
     "text": [
      "✅ Score moyen AUC CV - Random Forest : 0.9928\n",
      "✅ Score moyen AUC CV - XGBoost       : 0.9934\n"
     ]
    }
   ],
   "source": [
    "import numpy as np\n",
    "import matplotlib.pyplot as plt\n",
    "from sklearn.ensemble import RandomForestClassifier\n",
    "from xgboost import XGBClassifier\n",
    "from sklearn.feature_selection import SelectFromModel\n",
    "from sklearn.metrics import roc_curve, auc, classification_report\n",
    "from sklearn.model_selection import cross_val_score\n",
    "\n",
    "# 🔹 Modèle initial pour la sélection de features\n",
    "rf_base = RandomForestClassifier(\n",
    "    n_estimators=100,\n",
    "    max_depth=4,\n",
    "    min_samples_leaf=10,\n",
    "    max_features='sqrt',\n",
    "    class_weight='balanced',\n",
    "    random_state=42\n",
    ")\n",
    "rf_base.fit(X_train, y_train_mapped)\n",
    "\n",
    "# 🔹 Sélection des features importantes\n",
    "selector = SelectFromModel(rf_base, threshold=None, prefit=True)\n",
    "X_train_selected = selector.transform(X_train)\n",
    "X_test_selected = selector.transform(X_test)\n",
    "\n",
    "\n",
    "# 🔍 Récupération des noms des features sélectionnées\n",
    "selected_mask = selector.get_support()\n",
    "feature_names_rf = X_train.columns[selected_mask].tolist()\n",
    "\n",
    "# 🧪 Reconstruction de X_test avec les noms des features\n",
    "X_test_rf = X_test[feature_names_rf].values\n",
    "\n",
    "# 🔹 Modèle 1 : Random Forest\n",
    "rf_model = RandomForestClassifier(n_estimators=100, random_state=42)\n",
    "rf_model.fit(X_train_selected, y_train_mapped)\n",
    "rf_preds = rf_model.predict(X_test_selected)\n",
    "rf_proba = rf_model.predict_proba(X_test_selected)[:, 1]\n",
    "\n",
    "# 🔹 Modèle 2 : XGBoost\n",
    "xgb_model = XGBClassifier(\n",
    "    n_estimators=300,\n",
    "    max_depth=3,\n",
    "    learning_rate=0.05,\n",
    "    subsample=0.8,\n",
    "    colsample_bytree=0.8,\n",
    "    use_label_encoder=False,\n",
    "    eval_metric='logloss',\n",
    "    random_state=42\n",
    ")\n",
    "xgb_model.fit(X_train_selected, y_train_mapped)\n",
    "xgb_preds = xgb_model.predict(X_test_selected)\n",
    "xgb_proba = xgb_model.predict_proba(X_test_selected)[:, 1]\n",
    "\n",
    "# 🔹 Courbes ROC\n",
    "fpr_rf, tpr_rf, _ = roc_curve(y_test_mapped, rf_proba)\n",
    "fpr_xgb, tpr_xgb, _ = roc_curve(y_test_mapped, xgb_proba)\n",
    "auc_rf = auc(fpr_rf, tpr_rf)\n",
    "auc_xgb = auc(fpr_xgb, tpr_xgb)\n",
    "\n",
    "# 🔹 Affichage ROC comparatif\n",
    "plt.figure(figsize=(8, 6))\n",
    "plt.plot(fpr_rf, tpr_rf, label=f\"Random Forest (AUC = {auc_rf:.2f})\", color='blue')\n",
    "plt.plot(fpr_xgb, tpr_xgb, label=f\"XGBoost (AUC = {auc_xgb:.2f})\", color='orange')\n",
    "plt.plot([0, 1], [0, 1], linestyle='--', color='gray', label='Classifieur aléatoire')\n",
    "\n",
    "plt.title(\"Courbe ROC - Comparaison des modèles\", fontsize=14)\n",
    "plt.xlabel(\"Taux de faux positifs (FPR)\")\n",
    "plt.ylabel(\"Taux de vrais positifs (TPR)\")\n",
    "plt.legend(loc=\"lower right\")\n",
    "plt.grid(True)\n",
    "plt.tight_layout()\n",
    "plt.show()\n",
    "\n",
    "# 🔹 Évaluation textuelle\n",
    "print(\"📊 Rapport Random Forest :\")\n",
    "print(classification_report(y_test_mapped, rf_preds))\n",
    "\n",
    "print(\"📊 Rapport XGBoost :\")\n",
    "print(classification_report(y_test_mapped, xgb_preds))\n",
    "\n",
    "# 🔹 Validation croisée\n",
    "rf_cv = cross_val_score(rf_model, X_train_selected, y_train_mapped, cv=5, scoring='roc_auc')\n",
    "xgb_cv = cross_val_score(xgb_model, X_train_selected, y_train_mapped, cv=5, scoring='roc_auc')\n",
    "\n",
    "print(f\"✅ Score moyen AUC CV - Random Forest : {rf_cv.mean():.4f}\")\n",
    "print(f\"✅ Score moyen AUC CV - XGBoost       : {xgb_cv.mean():.4f}\")\n"
   ]
  },
  {
   "cell_type": "code",
   "execution_count": 252,
   "metadata": {},
   "outputs": [
    {
     "name": "stdout",
     "output_type": "stream",
     "text": [
      "\n",
      "📋 Performance - Random Forest\n",
      "   Métrique     Train      Test\n",
      "0  Accuracy  0.996152  0.994231\n",
      "1       AUC  0.986885  0.981481\n",
      "2    Recall  0.973770  0.962963\n",
      "\n",
      "📋 Performance - XGBoost\n",
      "   Métrique     Train      Test\n",
      "0  Accuracy  0.996152  0.994231\n",
      "1       AUC  0.986885  0.981481\n",
      "2    Recall  0.973770  0.962963\n"
     ]
    }
   ],
   "source": [
    "from sklearn.metrics import accuracy_score, roc_auc_score, recall_score\n",
    "import pandas as pd\n",
    "\n",
    "# 🔹 Prédictions sur l'ensemble d'entraînement\n",
    "rf_train_pred = rf_model.predict(X_train_selected)\n",
    "xgb_train_pred = xgb_model.predict(X_train_selected)\n",
    "\n",
    "# 🔹 Calcul des métriques pour Random Forest\n",
    "rf_metrics = {\n",
    "    'Accuracy': [accuracy_score(y_train_mapped, rf_train_pred), accuracy_score(y_test_mapped, rf_preds)],\n",
    "    'AUC': [roc_auc_score(y_train_mapped, rf_train_pred), roc_auc_score(y_test_mapped, rf_preds)],\n",
    "    'Recall': [recall_score(y_train_mapped, rf_train_pred), recall_score(y_test_mapped, rf_preds)]\n",
    "}\n",
    "\n",
    "# 🔹 Calcul des métriques pour XGBoost\n",
    "xgb_metrics = {\n",
    "    'Accuracy': [accuracy_score(y_train_mapped, xgb_train_pred), accuracy_score(y_test_mapped, xgb_preds)],\n",
    "    'AUC': [roc_auc_score(y_train_mapped, xgb_train_pred), roc_auc_score(y_test_mapped, xgb_preds)],\n",
    "    'Recall': [recall_score(y_train_mapped, xgb_train_pred), recall_score(y_test_mapped, xgb_preds)]\n",
    "}\n",
    "\n",
    "# 🔹 Création des tableaux\n",
    "# 🔹 Tableau Random Forest\n",
    "rf_table = pd.DataFrame({\n",
    "    'Métrique': ['Accuracy', 'AUC', 'Recall'],\n",
    "    'Train': [\n",
    "        accuracy_score(y_train_mapped, rf_train_pred),\n",
    "        roc_auc_score(y_train_mapped, rf_train_pred),\n",
    "        recall_score(y_train_mapped, rf_train_pred)\n",
    "    ],\n",
    "    'Test': [\n",
    "        accuracy_score(y_test_mapped, rf_preds),\n",
    "        roc_auc_score(y_test_mapped, rf_preds),\n",
    "        recall_score(y_test_mapped, rf_preds)\n",
    "    ]\n",
    "})\n",
    "\n",
    "# 🔹 Tableau XGBoost\n",
    "xgb_table = pd.DataFrame({\n",
    "    'Métrique': ['Accuracy', 'AUC', 'Recall'],\n",
    "    'Train': [\n",
    "        accuracy_score(y_train_mapped, xgb_train_pred),\n",
    "        roc_auc_score(y_train_mapped, xgb_train_pred),\n",
    "        recall_score(y_train_mapped, xgb_train_pred)\n",
    "    ],\n",
    "    'Test': [\n",
    "        accuracy_score(y_test_mapped, xgb_preds),\n",
    "        roc_auc_score(y_test_mapped, xgb_preds),\n",
    "        recall_score(y_test_mapped, xgb_preds)\n",
    "    ]\n",
    "})\n",
    "\n",
    "# 🔹 Affichage\n",
    "print(\"\\n📋 Performance - Random Forest\")\n",
    "print(rf_table)\n",
    "\n",
    "print(\"\\n📋 Performance - XGBoost\")\n",
    "print(xgb_table)\n",
    "\n"
   ]
  },
  {
   "cell_type": "code",
   "execution_count": 254,
   "metadata": {},
   "outputs": [
    {
     "name": "stdout",
     "output_type": "stream",
     "text": [
      "[0 0 0 0 0 0 0 0 0 0 0 0 0 0 0 1 0 0 0 1 0 0 0 0 0 0 0 0 0 0 0 0 0 0 0 0 0\n",
      " 0 0 0 0 0 0 0 0 0 0 1 0 0 0 0 0 0 0 0 0 0 1 0 0 0 0 0 0 0 0 0 1 1 0 0 0 0\n",
      " 0 1 0 0 0 0 0 0 0 0 1 0 0 0 0 0 0 0 0 0 0 0 0 0 1 0 0 0 0 0 0 0 0 0 0 0 0\n",
      " 0 0 0 0 0 0 0 0 0 0 1 1 0 0 0 1 0 0 0 0 0 0 0 1 0 0 0 1 0 0 0 0 0 1 0 0 0\n",
      " 0 0 0 0 0 0 0 1 0 1 0 0 0 0 1 0 1 0 0 0 0 0 0 0 0 1 0 0 0 0 0 1 0 0 0 0 0\n",
      " 0 1 0 1 0 0 0 1 0 0 1 0 0 0 0 1 0 0 1 0 0 0 0 0 1 1 0 0 0 0 1 0 0 0 0 0 0\n",
      " 0 0 0 0 0 0 0 1 0 0 0 1 0 1 0 0 0 0 0 0 0 0 0 0 0 0 0 1 0 0 0 0 1 0 0 0 0\n",
      " 0 0 0 0 0 0 0 0 0 0 1 0 0 0 0 0 1 0 0 0 0 0 0 0 0 1 0 0 0 0 0 0 0 0 1 0 1\n",
      " 1 0 0 1 0 0 0 0 0 0 0 0 0 0 1 0 1 0 0 1 1 0 0 0 0 0 0 0 0 0 0 0 0 0 0 0 0\n",
      " 0 1 0 1 0 0 0 0 0 0 0 0 0 0 1 0 0 0 0 0 1 0 1 0 0 0 0 0 0 0 0 0 0 0 0 0 0\n",
      " 0 0 0 1 0 0 0 0 1 0 0 0 1 0 0 0 0 0 0 0 0 1 0 0 0 0 0 0 0 0 0 0 0 0 0 1 0\n",
      " 0 1 0 0 0 0 1 0 0 0 1 1 0 0 0 0 0 0 0 1 0 0 1 0 0 0 0 0 0 0 0 0 0 0 0 0 0\n",
      " 0 0 0 0 0 0 0 1 0 0 0 0 1 0 0 0 1 0 1 0 0 0 0 0 1 0 0 0 0 1 0 1 1 0 0 0 1\n",
      " 0 0 0 0 0 0 1 0 0 0 0 0 0 0 0 0 0 0 0 0 1 0 1 1 0 0 0 1 0 0 0 0 0 1 0 0 0\n",
      " 0 1]\n"
     ]
    },
    {
     "name": "stderr",
     "output_type": "stream",
     "text": [
      "d:\\PROJET_DIT-20250506T153458Z-001\\MES_PROJETS\\.venv\\Lib\\site-packages\\sklearn\\utils\\validation.py:2742: UserWarning: X has feature names, but RandomForestClassifier was fitted without feature names\n",
      "  warnings.warn(\n"
     ]
    }
   ],
   "source": [
    "X_test_rf = X_test[feature_names_rf]\n",
    "rf_preds = rf_model.predict(X_test_rf)\n",
    "print(rf_preds)"
   ]
  },
  {
   "cell_type": "code",
   "execution_count": 145,
   "metadata": {},
   "outputs": [
    {
     "data": {
      "image/png": "[encoded data removed]",
      "text/plain": [
       "<Figure size 640x480 with 1 Axes>"
      ]
     },
     "metadata": {},
     "output_type": "display_data"
    },
    {
     "name": "stdout",
     "output_type": "stream",
     "text": [
      "🔍 Features sélectionnées et leurs importances:\n",
      "q606_1_avoir_faim_mais_ne_pas_manger: 0.3745\n",
      "q605_1_ne_plus_avoir_de_nourriture_pas_suffisamment_d_argent: 0.3641\n",
      "q604_manger_moins_que_ce_que_vous_auriez_du: 0.2614\n"
     ]
    }
   ],
   "source": [
    "import matplotlib.pyplot as plt\n",
    "import pandas as pd\n",
    "\n",
    "selected_cols = X_train.columns[selector.get_support()]\n",
    "feat_importances = pd.Series(rf_selected.feature_importances_, index=selected_cols)\n",
    "feat_importances.nlargest(20).plot(kind='barh')\n",
    "plt.title(\"Top 20 Features - Random Forest (sélectionnées)\")\n",
    "plt.show()\n",
    "\n",
    "\n",
    "print(\"🔍 Features sélectionnées et leurs importances:\")\n",
    "for feat, imp in zip(selected_cols, rf_selected.feature_importances_):\n",
    "    print(f\"{feat}: {imp:.4f}\")\n",
    "\n"
   ]
  },
  {
   "cell_type": "markdown",
   "metadata": {},
   "source": [
    "Prédiction sur les bases train et test"
   ]
  },
  {
   "cell_type": "code",
   "execution_count": 258,
   "metadata": {},
   "outputs": [],
   "source": [
    "import pandas as pd\n",
    "from sklearn.metrics import accuracy_score, roc_auc_score, recall_score\n",
    "\n",
    "# Prédire les classes sur les ensembles d'entraînement et de test\n",
    "y_train_pred = rf_model.predict(X_train_selected)\n",
    "y_test_pred = rf_model.predict(X_test_selected)"
   ]
  },
  {
   "cell_type": "markdown",
   "metadata": {},
   "source": [
    "Performances du modèle"
   ]
  },
  {
   "cell_type": "code",
   "execution_count": 259,
   "metadata": {},
   "outputs": [
    {
     "name": "stdout",
     "output_type": "stream",
     "text": [
      "   Métrique  Ensemble d'entraînement  Ensemble de test\n",
      "0  Accuracy                 0.996152          0.994231\n",
      "1       AUC                 0.986885          0.981481\n",
      "2    Recall                 0.973770          0.962963\n"
     ]
    }
   ],
   "source": [
    "# Calculer les mesures de performance\n",
    "train_accuracy = accuracy_score(y_train_mapped, y_train_pred)\n",
    "test_accuracy = accuracy_score(y_test_mapped, y_test_pred)\n",
    "train_auc = roc_auc_score(y_train_mapped, y_train_pred)\n",
    "test_auc = roc_auc_score(y_test_mapped, y_test_pred)\n",
    "train_recall = recall_score(y_train_mapped, y_train_pred)\n",
    "test_recall = recall_score(y_test_mapped, y_test_pred)\n",
    "\n",
    "# Créer le tableau d'évaluation des performances\n",
    "performance_table = pd.DataFrame({\n",
    "    'Métrique': ['Accuracy', 'AUC', 'Recall'],\n",
    "    'Ensemble d\\'entraînement': [train_accuracy, train_auc, train_recall],\n",
    "    'Ensemble de test': [test_accuracy, test_auc, test_recall]\n",
    "})\n",
    "\n",
    "# Afficher le tableau d'évaluation des performances\n",
    "print(performance_table)"
   ]
  },
  {
   "cell_type": "code",
   "execution_count": 260,
   "metadata": {},
   "outputs": [
    {
     "name": "stdout",
     "output_type": "stream",
     "text": [
      "F1 scores par fold : [0.98333333 0.99173554 0.99173554 0.97520661 0.97478992]\n",
      "F1 moyen : 0.9834 ± 0.0075\n"
     ]
    }
   ],
   "source": [
    "from sklearn.model_selection import cross_val_score\n",
    "\n",
    "scores = cross_val_score(rf_model, X_train_selected, y_train_mapped, cv=5, scoring='f1')\n",
    "print(f\"F1 scores par fold : {scores}\")\n",
    "print(f\"F1 moyen : {scores.mean():.4f} ± {scores.std():.4f}\")\n"
   ]
  },
  {
   "cell_type": "markdown",
   "metadata": {},
   "source": [
    "DEPLOIMENT DU MODELE"
   ]
  },
  {
   "cell_type": "code",
   "execution_count": 266,
   "metadata": {},
   "outputs": [
    {
     "data": {
      "text/plain": [
       "['modele_food_insecurity.pkl']"
      ]
     },
     "execution_count": 266,
     "metadata": {},
     "output_type": "execute_result"
    }
   ],
   "source": [
    "import joblib\n",
    "joblib.dump(rf_model, \"modele_food_insecurity.pkl\")\n",
    "# Enregistrement du modèle avec joblib"
   ]
  },
  {
   "cell_type": "code",
   "execution_count": null,
   "metadata": {},
   "outputs": [],
   "source": []
  },
  {
   "cell_type": "code",
   "execution_count": null,
   "metadata": {},
   "outputs": [],
   "source": []
  },
  {
   "cell_type": "code",
   "execution_count": null,
   "metadata": {},
   "outputs": [],
   "source": []
  },
  {
   "cell_type": "code",
   "execution_count": null,
   "metadata": {},
   "outputs": [],
   "source": []
  },
  {
   "cell_type": "code",
   "execution_count": null,
   "metadata": {},
   "outputs": [],
   "source": []
  },
  {
   "cell_type": "code",
   "execution_count": null,
   "metadata": {},
   "outputs": [],
   "source": []
  },
  {
   "cell_type": "code",
   "execution_count": null,
   "metadata": {},
   "outputs": [],
   "source": []
  },
  {
   "cell_type": "code",
   "execution_count": null,
   "metadata": {},
   "outputs": [],
   "source": []
  },
  {
   "cell_type": "code",
   "execution_count": null,
   "metadata": {},
   "outputs": [],
   "source": []
  },
  {
   "cell_type": "code",
   "execution_count": null,
   "metadata": {},
   "outputs": [],
   "source": []
  },
  {
   "cell_type": "code",
   "execution_count": null,
   "metadata": {},
   "outputs": [],
   "source": []
  },
  {
   "cell_type": "code",
   "execution_count": null,
   "metadata": {},
   "outputs": [],
   "source": []
  },
  {
   "cell_type": "code",
   "execution_count": null,
   "metadata": {},
   "outputs": [],
   "source": []
  },
  {
   "cell_type": "code",
   "execution_count": null,
   "metadata": {},
   "outputs": [],
   "source": []
  },
  {
   "cell_type": "code",
   "execution_count": null,
   "metadata": {},
   "outputs": [],
   "source": []
  },
  {
   "cell_type": "code",
   "execution_count": null,
   "metadata": {},
   "outputs": [],
   "source": []
  },
  {
   "cell_type": "code",
   "execution_count": null,
   "metadata": {},
   "outputs": [],
   "source": []
  },
  {
   "cell_type": "code",
   "execution_count": null,
   "metadata": {},
   "outputs": [],
   "source": []
  },
  {
   "cell_type": "code",
   "execution_count": null,
   "metadata": {},
   "outputs": [],
   "source": []
  },
  {
   "cell_type": "code",
   "execution_count": null,
   "metadata": {},
   "outputs": [],
   "source": []
  },
  {
   "cell_type": "code",
   "execution_count": null,
   "metadata": {},
   "outputs": [],
   "source": []
  },
  {
   "cell_type": "code",
   "execution_count": 99,
   "metadata": {
    "colab": {
     "base_uri": "https://localhost:8080/"
    },
    "executionInfo": {
     "elapsed": 748,
     "status": "ok",
     "timestamp": 1746188692706,
     "user": {
      "displayName": "daouda dieme",
      "userId": "16090975305300597295"
     },
     "user_tz": 0
    },
    "id": "zxpciJR3ZZ6d",
    "outputId": "973e477d-30c5-4c13-ff34-ca27660f0bf4"
   },
   "outputs": [
    {
     "name": "stderr",
     "output_type": "stream",
     "text": [
      "d:\\PROJET_DIT-20250506T153458Z-001\\MES_PROJETS\\.venv\\Lib\\site-packages\\xgboost\\training.py:183: UserWarning: [21:13:30] WARNING: C:\\actions-runner\\_work\\xgboost\\xgboost\\src\\learner.cc:738: \n",
      "Parameters: { \"use_label_encoder\" } are not used.\n",
      "\n",
      "  bst.update(dtrain, iteration=i, fobj=obj)\n"
     ]
    },
    {
     "name": "stdout",
     "output_type": "stream",
     "text": [
      "📊 Rapport de classification pour XGBoost :\n",
      "              precision    recall  f1-score   support\n",
      "\n",
      "           0       1.00      1.00      1.00       439\n",
      "           1       1.00      1.00      1.00        81\n",
      "\n",
      "    accuracy                           1.00       520\n",
      "   macro avg       1.00      1.00      1.00       520\n",
      "weighted avg       1.00      1.00      1.00       520\n",
      "\n",
      "\n",
      "📊 Rapport de classification pour Random Forest :\n",
      "              precision    recall  f1-score   support\n",
      "\n",
      "           0       1.00      1.00      1.00       439\n",
      "           1       1.00      1.00      1.00        81\n",
      "\n",
      "    accuracy                           1.00       520\n",
      "   macro avg       1.00      1.00      1.00       520\n",
      "weighted avg       1.00      1.00      1.00       520\n",
      "\n"
     ]
    },
    {
     "name": "stderr",
     "output_type": "stream",
     "text": [
      "d:\\PROJET_DIT-20250506T153458Z-001\\MES_PROJETS\\.venv\\Lib\\site-packages\\IPython\\core\\pylabtools.py:170: UserWarning: Glyph 129518 (\\N{ABACUS}) missing from font(s) DejaVu Sans.\n",
      "  fig.canvas.print_figure(bytes_io, **kw)\n"
     ]
    },
    {
     "data": {
      "image/png": "[encoded data removed]",
      "text/plain": [
       "<Figure size 640x480 with 2 Axes>"
      ]
     },
     "metadata": {},
     "output_type": "display_data"
    },
    {
     "name": "stderr",
     "output_type": "stream",
     "text": [
      "d:\\PROJET_DIT-20250506T153458Z-001\\MES_PROJETS\\.venv\\Lib\\site-packages\\IPython\\core\\pylabtools.py:170: UserWarning: Glyph 129518 (\\N{ABACUS}) missing from font(s) DejaVu Sans.\n",
      "  fig.canvas.print_figure(bytes_io, **kw)\n"
     ]
    },
    {
     "data": {
      "image/png": "[encoded data removed]",
      "text/plain": [
       "<Figure size 640x480 with 2 Axes>"
      ]
     },
     "metadata": {},
     "output_type": "display_data"
    }
   ],
   "source": [
    "from xgboost import XGBClassifier\n",
    "from sklearn.ensemble import RandomForestClassifier\n",
    "from sklearn.metrics import classification_report, confusion_matrix\n",
    "import seaborn as sns\n",
    "import matplotlib.pyplot as plt\n",
    "\n",
    "# 1. Remapping des classes\n",
    "y_train_mapped = y_train.replace({1: 0, 2: 1})\n",
    "y_test_mapped = y_test.replace({1: 0, 2: 1})\n",
    "\n",
    "# 2. Modèle XGBoost\n",
    "xgb_model = XGBClassifier(\n",
    "    n_estimators=200,\n",
    "    max_depth=6,\n",
    "    learning_rate=0.1,\n",
    "    subsample=0.8,\n",
    "    colsample_bytree=0.8,\n",
    "    scale_pos_weight=1,\n",
    "    use_label_encoder=False,\n",
    "    eval_metric='logloss',\n",
    "    random_state=42\n",
    ")\n",
    "xgb_model.fit(X_train, y_train_mapped)\n",
    "xgb_predictions = xgb_model.predict(X_test)\n",
    "\n",
    "# 3. Modèle Random Forest\n",
    "rf_model = RandomForestClassifier(\n",
    "    n_estimators=200,\n",
    "    max_depth=10,\n",
    "    class_weight='balanced',\n",
    "    random_state=42\n",
    ")\n",
    "rf_model.fit(X_train, y_train_mapped)\n",
    "rf_predictions = rf_model.predict(X_test)\n",
    "\n",
    "# 4. Évaluation\n",
    "print(\"📊 Rapport de classification pour XGBoost :\")\n",
    "print(classification_report(y_test_mapped, xgb_predictions))\n",
    "\n",
    "print(\"\\n📊 Rapport de classification pour Random Forest :\")\n",
    "print(classification_report(y_test_mapped, rf_predictions))\n",
    "\n",
    "# 5. Matrices de confusion\n",
    "def plot_confusion(y_true, y_pred, title):\n",
    "    cm = confusion_matrix(y_true, y_pred)\n",
    "    sns.heatmap(cm, annot=True, fmt='d', cmap='Blues',\n",
    "                xticklabels=[\"Modérée\", \"Sévère\"],\n",
    "                yticklabels=[\"Modérée\", \"Sévère\"])\n",
    "    plt.title(title)\n",
    "    plt.xlabel(\"Prédit\")\n",
    "    plt.ylabel(\"Réel\")\n",
    "    plt.show()\n",
    "\n",
    "plot_confusion(y_test_mapped, xgb_predictions, \"🧮 Matrice de confusion - XGBoost\")\n",
    "plot_confusion(y_test_mapped, rf_predictions, \"🧮 Matrice de confusion - Random Forest\")\n"
   ]
  },
  {
   "cell_type": "code",
   "execution_count": 52,
   "metadata": {},
   "outputs": [
    {
     "name": "stdout",
     "output_type": "stream",
     "text": [
      "Score moyen CV : 0.9930769230769231\n"
     ]
    }
   ],
   "source": [
    "from sklearn.model_selection import cross_val_score\n",
    "scores = cross_val_score(model, X, y, cv=5)\n",
    "print(\"Score moyen CV :\", scores.mean())\n"
   ]
  },
  {
   "cell_type": "code",
   "execution_count": 53,
   "metadata": {},
   "outputs": [
    {
     "data": {
      "image/png": "[encoded data removed]",
      "text/plain": [
       "<Figure size 640x480 with 1 Axes>"
      ]
     },
     "metadata": {},
     "output_type": "display_data"
    }
   ],
   "source": [
    "import matplotlib.pyplot as plt\n",
    "importances = model.feature_importances_\n",
    "features = X.columns\n",
    "plt.barh(features, importances)\n",
    "plt.title(\"Importance des variables\")\n",
    "plt.show()\n"
   ]
  },
  {
   "cell_type": "code",
   "execution_count": 54,
   "metadata": {
    "colab": {
     "base_uri": "https://localhost:8080/"
    },
    "executionInfo": {
     "elapsed": 503,
     "status": "ok",
     "timestamp": 1746188703736,
     "user": {
      "displayName": "daouda dieme",
      "userId": "16090975305300597295"
     },
     "user_tz": 0
    },
    "id": "9cerWtktZwO5",
    "outputId": "4523b159-9753-4249-e216-0afa8ecd1e33"
   },
   "outputs": [
    {
     "name": "stdout",
     "output_type": "stream",
     "text": [
      "Performance du modèle Random Forest :\n",
      "{'Accuracy': 1.0, 'F1-score': 1.0, 'Precision': 1.0, 'Recall': 1.0}\n",
      "Performance du modèle Logistic Regression :\n",
      "{'Accuracy': 0.9942307692307693, 'F1-score': 0.9942451770725097, 'Precision': 0.9942732829593839, 'Recall': 0.9942307692307693}\n"
     ]
    }
   ],
   "source": [
    "# Comparaison des performances\n",
    "from sklearn.metrics import accuracy_score # Import accuracy_score\n",
    "\n",
    "results = {}\n",
    "for model_name, model in models.items():\n",
    "    model.fit(X_train, y_train)\n",
    "    predictions = model.predict(X_test)\n",
    "    accuracy = accuracy_score(y_test, predictions)\n",
    "    report = classification_report(y_test, predictions, output_dict=True)\n",
    "    results[model_name] = {\n",
    "        'Accuracy': accuracy,\n",
    "        'F1-score': report['weighted avg']['f1-score'],\n",
    "        'Precision': report['weighted avg']['precision'],\n",
    "        'Recall': report['weighted avg']['recall']\n",
    "    }\n",
    "\n",
    "# Affichage des résultats\n",
    "for model_name, metrics in results.items():\n",
    "    print(f\"Performance du modèle {model_name} :\")\n",
    "    print(metrics)"
   ]
  },
  {
   "cell_type": "code",
   "execution_count": null,
   "metadata": {
    "colab": {
     "base_uri": "https://localhost:8080/"
    },
    "executionInfo": {
     "elapsed": 18,
     "status": "ok",
     "timestamp": 1746188708663,
     "user": {
      "displayName": "daouda dieme",
      "userId": "16090975305300597295"
     },
     "user_tz": 0
    },
    "id": "CGyhC6khaD69",
    "outputId": "1e4bffac-8c13-447f-f30d-190f2e46013b"
   },
   "outputs": [
    {
     "name": "stdout",
     "output_type": "stream",
     "text": [
      "Distribution des classes : {np.int64(0): np.int64(1966), np.int64(1): np.int64(2077)}\n",
      "Ratio calculé : 0.9465575349061146\n"
     ]
    }
   ],
   "source": [
    "import numpy as np\n",
    "\n",
    "# Compter les occurrences de chaque classe\n",
    "classes, counts = np.unique(y_train, return_counts=True)\n",
    "print(\"Distribution des classes :\", dict(zip(classes, counts)))\n",
    "\n",
    "# Calculer le poids pour la classe positive (en supposant que la classe positive est '1')\n",
    "if len(classes) > 1:  # S'assurer qu'il y a au moins 2 classes\n",
    "    ratio = counts[0] / counts[1]  # Classe négative / Classe positive\n",
    "else:\n",
    "    ratio = 1  # Si une seule classe est présente, aucune pondération n'est nécessaire\n",
    "print(\"Ratio calculé :\", ratio)\n"
   ]
  },
  {
   "cell_type": "code",
   "execution_count": null,
   "metadata": {},
   "outputs": [
    {
     "name": "stdout",
     "output_type": "stream",
     "text": [
      "Rapport de classification :\n",
      "              precision    recall  f1-score   support\n",
      "\n",
      "           0       0.99      1.00      1.00       489\n",
      "           1       1.00      0.99      1.00       522\n",
      "\n",
      "    accuracy                           1.00      1011\n",
      "   macro avg       1.00      1.00      1.00      1011\n",
      "weighted avg       1.00      1.00      1.00      1011\n",
      "\n",
      "Matrice de confusion :\n",
      "[[488   1]\n",
      " [  3 519]]\n",
      "Top 10 des features importantes :\n",
      "                                             Feature  Importance\n",
      "0      q601_ne_pas_manger_nourriture_saine_nutritive    0.427984\n",
      "2                  q602_manger_nourriture_peu_variee    0.199982\n",
      "1  q600_inquiets_de_ne_pas_avoir_suffisamment_de_...    0.165658\n",
      "4                               q603_sauter_un_repas    0.086083\n",
      "3        q604_manger_moins_que_ce_que_vous_auriez_du    0.063259\n",
      "6               q606_1_avoir_faim_mais_ne_pas_manger    0.025282\n",
      "5  q605_1_ne_plus_avoir_de_nourriture_pas_suffisa...    0.017482\n",
      "8     q212_1_principal_mode_evacuation_boues_vidange    0.008908\n",
      "7                                         PDAM__r_AP    0.003811\n",
      "9                                      LCSI_24__r_AP    0.001552\n",
      "Features sélectionnées : ['q601_ne_pas_manger_nourriture_saine_nutritive', 'q602_manger_nourriture_peu_variee', 'q600_inquiets_de_ne_pas_avoir_suffisamment_de_nourriture', 'q603_sauter_un_repas', 'q604_manger_moins_que_ce_que_vous_auriez_du', 'q606_1_avoir_faim_mais_ne_pas_manger', 'q605_1_ne_plus_avoir_de_nourriture_pas_suffisamment_d_argent']\n"
     ]
    }
   ],
   "source": [
    "from sklearn.ensemble import RandomForestClassifier\n",
    "from sklearn.metrics import classification_report, confusion_matrix\n",
    "import pandas as pd\n",
    "\n",
    "# Initialisation du modèle Random Forest\n",
    "model = RandomForestClassifier(n_estimators=100, max_depth=6, random_state=42)\n",
    "\n",
    "# Entraînement sur les données\n",
    "model.fit(X_train, y_train)\n",
    "\n",
    "# Prédictions sur les données de test\n",
    "y_pred = model.predict(X_test)\n",
    "\n",
    "# Évaluation des performances\n",
    "print(\"Rapport de classification :\")\n",
    "print(classification_report(y_test, y_pred))\n",
    "\n",
    "print(\"Matrice de confusion :\")\n",
    "print(confusion_matrix(y_test, y_pred))\n",
    "\n",
    "# Importance des variables\n",
    "importances = model.feature_importances_\n",
    "\n",
    "# Créer un DataFrame avec les importances\n",
    "importance_data = pd.DataFrame({\n",
    "    'Feature': X_train.columns,\n",
    "    'Importance': importances\n",
    "}).sort_values(by='Importance', ascending=False)\n",
    "\n",
    "# Afficher les 10 features les plus importantes\n",
    "print(\"Top 10 des features importantes :\")\n",
    "print(importance_data.head(10))\n",
    "\n",
    "# Définir un seuil pour supprimer les variables peu importantes\n",
    "seuil = 0.01  # On garde les features ayant une importance > 1%\n",
    "selected_features = importance_data[importance_data['Importance'] > seuil]['Feature']\n",
    "X_train_selected = X_train[selected_features]\n",
    "X_test_selected = X_test[selected_features]\n",
    "\n",
    "print(f\"Features sélectionnées : {selected_features.tolist()}\")\n"
   ]
  },
  {
   "cell_type": "code",
   "execution_count": null,
   "metadata": {},
   "outputs": [
    {
     "name": "stdout",
     "output_type": "stream",
     "text": [
      "[1 0 0 1 0 1 1 0 0 0 0 1 0 1 0 1 0 0 0 1 0 0 1 1 1 1 1 0 0 1 0 0 1 0 1 0 1\n",
      " 1 0 1 1 1 1 0 1 1 0 1 0 1 1 0 0 0 1 0 0 1 1 0 1 0 1 1 0 0 0 0 0 1 1 0 1 0\n",
      " 1 0 1 1 1 0 1 0 1 1 1 0 0 1 0 1]\n"
     ]
    }
   ],
   "source": [
    "print(y_pred[:90])"
   ]
  },
  {
   "cell_type": "code",
   "execution_count": null,
   "metadata": {
    "colab": {
     "base_uri": "https://localhost:8080/"
    },
    "executionInfo": {
     "elapsed": 1205,
     "status": "ok",
     "timestamp": 1746188722302,
     "user": {
      "displayName": "daouda dieme",
      "userId": "16090975305300597295"
     },
     "user_tz": 0
    },
    "id": "3ZzgK_SLSC-U",
    "outputId": "6ac1691c-f05b-4636-edc2-75376bce1b6a"
   },
   "outputs": [
    {
     "name": "stdout",
     "output_type": "stream",
     "text": [
      "Scores F1 pour chaque pli : [0.99752645 0.99134094 0.9950529  0.99628357 0.99752323]\n",
      "F1-score moyen : 0.9955454176021222\n"
     ]
    }
   ],
   "source": [
    "from sklearn.model_selection import cross_val_score\n",
    "\n",
    "# Validation croisée avec 5 plis\n",
    "scores = cross_val_score(model, X_train, y_train, cv=5, scoring='f1_macro')\n",
    "\n",
    "print(\"Scores F1 pour chaque pli :\", scores)\n",
    "print(\"F1-score moyen :\", scores.mean())\n"
   ]
  },
  {
   "cell_type": "markdown",
   "metadata": {
    "id": "4gg-5kePS1l2"
   },
   "source": [
    "Utilisez l'analyse de l'importance des variables pour comprendre les contributions des différentes features au modèle. Cela peut aussi révéler si le modèle s'appuie trop sur une ou deux variables clés."
   ]
  },
  {
   "cell_type": "code",
   "execution_count": null,
   "metadata": {},
   "outputs": [
    {
     "data": {
      "image/png": "[encoded data removed]",
      "text/plain": [
       "<Figure size 1000x800 with 1 Axes>"
      ]
     },
     "metadata": {},
     "output_type": "display_data"
    }
   ],
   "source": [
    "import matplotlib.pyplot as plt\n",
    "import pandas as pd\n",
    "import numpy as np\n",
    "from sklearn.ensemble import RandomForestClassifier\n",
    "\n",
    "# Entraînement du modèle (déjà fait)\n",
    "model = RandomForestClassifier(n_estimators=100, max_depth=6, random_state=42)\n",
    "model.fit(X_train, y_train)\n",
    "\n",
    "# Récupération des importances\n",
    "importances = model.feature_importances_\n",
    "features = X_train.columns\n",
    "\n",
    "# Création du DataFrame trié\n",
    "importance_df = pd.DataFrame({\n",
    "    'Feature': features,\n",
    "    'Importance': importances\n",
    "}).sort_values(by='Importance', ascending=True)\n",
    "\n",
    "# 🔍 Tracé des importances\n",
    "plt.figure(figsize=(10, 8))\n",
    "plt.barh(importance_df['Feature'], importance_df['Importance'], color='skyblue')\n",
    "plt.xlabel(\"Importance\")\n",
    "plt.title(\"Importance des variables - Random Forest\")\n",
    "plt.tight_layout()\n",
    "plt.show()\n"
   ]
  },
  {
   "cell_type": "code",
   "execution_count": null,
   "metadata": {
    "colab": {
     "base_uri": "https://localhost:8080/",
     "height": 579
    },
    "executionInfo": {
     "elapsed": 1045,
     "status": "ok",
     "timestamp": 1746188738414,
     "user": {
      "displayName": "daouda dieme",
      "userId": "16090975305300597295"
     },
     "user_tz": 0
    },
    "id": "AyF_WTGglDDq",
    "outputId": "fc289311-0163-4288-a26c-ebe85c5d0e7d"
   },
   "outputs": [
    {
     "name": "stderr",
     "output_type": "stream",
     "text": [
      "C:\\Users\\User\\AppData\\Local\\Temp\\ipykernel_15764\\3360279362.py:18: FutureWarning: \n",
      "\n",
      "Passing `palette` without assigning `hue` is deprecated and will be removed in v0.14.0. Assign the `x` variable to `hue` and set `legend=False` for the same effect.\n",
      "\n",
      "  sns.barplot(x=val.index, y=percentages.values, palette=palette)\n",
      "C:\\Users\\User\\AppData\\Local\\Temp\\ipykernel_15764\\3360279362.py:18: UserWarning: The palette list has more values (3) than needed (2), which may not be intended.\n",
      "  sns.barplot(x=val.index, y=percentages.values, palette=palette)\n"
     ]
    },
    {
     "data": {
      "image/png": "[encoded data removed]",
      "text/plain": [
       "<Figure size 640x480 with 1 Axes>"
      ]
     },
     "metadata": {},
     "output_type": "display_data"
    }
   ],
   "source": [
    "import seaborn as sns\n",
    "import matplotlib.pyplot as plt\n",
    "\n",
    "# Créer un dictionnaire de labels qualitatifs\n",
    "labels = {0: \"Sécurisé\", 1: \"Modéré\", 2: \"Sévère\"}\n",
    "\n",
    "# Nombre d'observations dans chaque classe et calcul des pourcentages\n",
    "val = data_reduced['insécurité_alimentaire'].value_counts()\n",
    "#val.index = [labels[i] for i in val.index]  # Remplacer les indices par des labels qualitatifs\n",
    "val.index = val.index.map(labels.get)\n",
    "\n",
    "percentages = (val / val.sum()) * 100  # Calculer les pourcentages\n",
    "\n",
    "# Palette de couleurs pour les barres\n",
    "palette = sns.color_palette(\"hls\", 3)  # Palette avec 3 couleurs\n",
    "\n",
    "# Diagramme en bar\n",
    "sns.barplot(x=val.index, y=percentages.values, palette=palette)\n",
    "\n",
    "# Ajouter les pourcentages au-dessus des barres\n",
    "for i, v in enumerate(percentages.values):\n",
    "    plt.text(i, v + 1, f\"{v:.1f}%\", ha='center', fontsize=12)\n",
    "\n",
    "# Légende associée à chaque couleur et catégorie\n",
    "import matplotlib.patches as mpatches\n",
    "legends = [mpatches.Patch(color=palette[i], label=val.index[i]) for i in range(len(val.index))]\n",
    "plt.legend(handles=legends, title=\"Catégories d'IA\", loc=\"upper right\")\n",
    "\n",
    "# Titres et labels des axes\n",
    "plt.title(\"Distribution de l'insécurité alimentaire\")\n",
    "plt.xlabel(\"Catégories d'IA \")\n",
    "plt.ylabel(\"Pourcentage des observations\")\n",
    "\n",
    "# Afficher le graphique\n",
    "plt.show()\n"
   ]
  },
  {
   "cell_type": "code",
   "execution_count": null,
   "metadata": {
    "colab": {
     "base_uri": "https://localhost:8080/"
    },
    "executionInfo": {
     "elapsed": 1364,
     "status": "ok",
     "timestamp": 1746188750543,
     "user": {
      "displayName": "daouda dieme",
      "userId": "16090975305300597295"
     },
     "user_tz": 0
    },
    "id": "cxPKuQgmqR3H",
    "outputId": "732c47d3-8c4f-4652-ab48-8b8ccd9fa221"
   },
   "outputs": [
    {
     "name": "stdout",
     "output_type": "stream",
     "text": [
      "Requirement already satisfied: imbalanced-learn in c:\\users\\user\\appdata\\local\\packages\\pythonsoftwarefoundation.python.3.11_qbz5n2kfra8p0\\localcache\\local-packages\\python311\\site-packages (0.13.0)\n",
      "Requirement already satisfied: numpy<3,>=1.24.3 in c:\\users\\user\\appdata\\local\\packages\\pythonsoftwarefoundation.python.3.11_qbz5n2kfra8p0\\localcache\\local-packages\\python311\\site-packages (from imbalanced-learn) (2.2.5)\n",
      "Requirement already satisfied: scipy<2,>=1.10.1 in c:\\users\\user\\appdata\\local\\packages\\pythonsoftwarefoundation.python.3.11_qbz5n2kfra8p0\\localcache\\local-packages\\python311\\site-packages (from imbalanced-learn) (1.15.2)\n",
      "Requirement already satisfied: scikit-learn<2,>=1.3.2 in c:\\users\\user\\appdata\\local\\packages\\pythonsoftwarefoundation.python.3.11_qbz5n2kfra8p0\\localcache\\local-packages\\python311\\site-packages (from imbalanced-learn) (1.6.1)\n",
      "Requirement already satisfied: sklearn-compat<1,>=0.1 in c:\\users\\user\\appdata\\local\\packages\\pythonsoftwarefoundation.python.3.11_qbz5n2kfra8p0\\localcache\\local-packages\\python311\\site-packages (from imbalanced-learn) (0.1.3)\n",
      "Requirement already satisfied: joblib<2,>=1.1.1 in c:\\users\\user\\appdata\\local\\packages\\pythonsoftwarefoundation.python.3.11_qbz5n2kfra8p0\\localcache\\local-packages\\python311\\site-packages (from imbalanced-learn) (1.5.0)\n",
      "Requirement already satisfied: threadpoolctl<4,>=2.0.0 in c:\\users\\user\\appdata\\local\\packages\\pythonsoftwarefoundation.python.3.11_qbz5n2kfra8p0\\localcache\\local-packages\\python311\\site-packages (from imbalanced-learn) (3.6.0)\n",
      "Note: you may need to restart the kernel to use updated packages.\n"
     ]
    },
    {
     "name": "stderr",
     "output_type": "stream",
     "text": [
      "\n",
      "[notice] A new release of pip is available: 24.0 -> 25.1.1\n",
      "[notice] To update, run: C:\\Users\\User\\AppData\\Local\\Microsoft\\WindowsApps\\PythonSoftwareFoundation.Python.3.11_qbz5n2kfra8p0\\python.exe -m pip install --upgrade pip\n"
     ]
    }
   ],
   "source": [
    "pip install imbalanced-learn\n"
   ]
  },
  {
   "cell_type": "code",
   "execution_count": null,
   "metadata": {
    "executionInfo": {
     "elapsed": 834,
     "status": "ok",
     "timestamp": 1746188753712,
     "user": {
      "displayName": "daouda dieme",
      "userId": "16090975305300597295"
     },
     "user_tz": 0
    },
    "id": "jgsYScksUon9"
   },
   "outputs": [
    {
     "name": "stdout",
     "output_type": "stream",
     "text": [
      "[1 0 0 1 0 1 1 0 0 0 0 1 0 1 0 1 0 0 0 1 0 0 1 1 1 1 1 0 0 1 0 0 1 0 1 0 1\n",
      " 1 0 1 1 1 1 0 1 1 0 1 0 1 1 0 0 0 1 0 0 1 1 0 1 0 1 1 0 0 0 0 0 1 1 0 1 0\n",
      " 1 0 1 1 1 0 1 0 1 1 1 0 0 1 0 1]\n"
     ]
    }
   ],
   "source": [
    "\n",
    "from imblearn.over_sampling import SMOTE\n",
    "smote = SMOTE()\n",
    "X_train_balanced, y_train_balanced = smote.fit_resample(X_train, y_train)\n",
    "\n",
    "# Entraîner ton modèle\n",
    "model.fit(X_train_balanced, y_train_balanced)\n",
    "\n",
    "# Tester sur les données réelles (inchangées)\n",
    "y_pred = model.predict(X_test)\n",
    "print(y_pred[:90])"
   ]
  },
  {
   "cell_type": "code",
   "execution_count": null,
   "metadata": {
    "colab": {
     "base_uri": "https://localhost:8080/"
    },
    "executionInfo": {
     "elapsed": 7,
     "status": "ok",
     "timestamp": 1746188758429,
     "user": {
      "displayName": "daouda dieme",
      "userId": "16090975305300597295"
     },
     "user_tz": 0
    },
    "id": "V6cfISjzpM2A",
    "outputId": "9cd6a53e-8377-43f1-8049-331aad54a026"
   },
   "outputs": [
    {
     "name": "stdout",
     "output_type": "stream",
     "text": [
      "{np.int64(0): np.int64(2077), np.int64(1): np.int64(2077)}\n"
     ]
    }
   ],
   "source": [
    "import numpy as np\n",
    "unique, counts = np.unique(y_train_balanced, return_counts=True)\n",
    "print(dict(zip(unique, counts)))  # Vérifie la répartition après le rééquilibrage\n"
   ]
  },
  {
   "cell_type": "code",
   "execution_count": null,
   "metadata": {
    "colab": {
     "base_uri": "https://localhost:8080/"
    },
    "executionInfo": {
     "elapsed": 155,
     "status": "ok",
     "timestamp": 1746188760681,
     "user": {
      "displayName": "daouda dieme",
      "userId": "16090975305300597295"
     },
     "user_tz": 0
    },
    "id": "iOKZYMkOmhvf",
    "outputId": "10d6a726-1a6b-41e7-8940-5549e3a677fa"
   },
   "outputs": [
    {
     "name": "stdout",
     "output_type": "stream",
     "text": [
      "F1-Score Entraînement : 0.9971111939957713\n",
      "Précision Entraînement : 0.9971112181030333\n",
      "F1-Score Test : 0.9960437614847278\n",
      "Précision Test : 0.9960435212660732\n",
      "Le modèle semble bien généraliser.\n"
     ]
    }
   ],
   "source": [
    "from sklearn.metrics import accuracy_score, f1_score\n",
    "\n",
    "# Évaluer les performances sur l'ensemble d'entraînement\n",
    "y_train_pred = model.predict(X_train_balanced) # Use X_train_balanced instead of X_train_smote\n",
    "train_f1 = f1_score(y_train_balanced, y_train_pred, average='weighted') # Use y_train_balanced instead of y_train_smote\n",
    "train_accuracy = accuracy_score(y_train_balanced, y_train_pred) # Use y_train_balanced instead of y_train_smote\n",
    "\n",
    "# Évaluer les performances sur l'ensemble de test\n",
    "y_test_pred = model.predict(X_test)\n",
    "test_f1 = f1_score(y_test, y_test_pred, average='weighted')\n",
    "test_accuracy = accuracy_score(y_test, y_test_pred)\n",
    "\n",
    "# Comparer les scores\n",
    "print(f\"F1-Score Entraînement : {train_f1}\")\n",
    "print(f\"Précision Entraînement : {train_accuracy}\")\n",
    "print(f\"F1-Score Test : {test_f1}\")\n",
    "print(f\"Précision Test : {test_accuracy}\")\n",
    "\n",
    "if train_f1 > test_f1 + 0.05:  # Seuil de différence pour détecter le surapprentissage\n",
    "    print(\"Le modèle semble surappris (overfitting).\")\n",
    "else:\n",
    "    print(\"Le modèle semble bien généraliser.\")"
   ]
  },
  {
   "cell_type": "code",
   "execution_count": null,
   "metadata": {
    "colab": {
     "base_uri": "https://localhost:8080/",
     "height": 343
    },
    "executionInfo": {
     "elapsed": 697,
     "status": "ok",
     "timestamp": 1746188767425,
     "user": {
      "displayName": "daouda dieme",
      "userId": "16090975305300597295"
     },
     "user_tz": 0
    },
    "id": "c-geBDWvUon9",
    "outputId": "841b904d-a234-4f21-a55a-2b81d3350a9d"
   },
   "outputs": [
    {
     "data": {
      "text/html": [
       "<style>#sk-container-id-2 {\n",
       "  /* Definition of color scheme common for light and dark mode */\n",
       "  --sklearn-color-text: #000;\n",
       "  --sklearn-color-text-muted: #666;\n",
       "  --sklearn-color-line: gray;\n",
       "  /* Definition of color scheme for unfitted estimators */\n",
       "  --sklearn-color-unfitted-level-0: #fff5e6;\n",
       "  --sklearn-color-unfitted-level-1: #f6e4d2;\n",
       "  --sklearn-color-unfitted-level-2: #ffe0b3;\n",
       "  --sklearn-color-unfitted-level-3: chocolate;\n",
       "  /* Definition of color scheme for fitted estimators */\n",
       "  --sklearn-color-fitted-level-0: #f0f8ff;\n",
       "  --sklearn-color-fitted-level-1: #d4ebff;\n",
       "  --sklearn-color-fitted-level-2: #b3dbfd;\n",
       "  --sklearn-color-fitted-level-3: cornflowerblue;\n",
       "\n",
       "  /* Specific color for light theme */\n",
       "  --sklearn-color-text-on-default-background: var(--sg-text-color, var(--theme-code-foreground, var(--jp-content-font-color1, black)));\n",
       "  --sklearn-color-background: var(--sg-background-color, var(--theme-background, var(--jp-layout-color0, white)));\n",
       "  --sklearn-color-border-box: var(--sg-text-color, var(--theme-code-foreground, var(--jp-content-font-color1, black)));\n",
       "  --sklearn-color-icon: #696969;\n",
       "\n",
       "  @media (prefers-color-scheme: dark) {\n",
       "    /* Redefinition of color scheme for dark theme */\n",
       "    --sklearn-color-text-on-default-background: var(--sg-text-color, var(--theme-code-foreground, var(--jp-content-font-color1, white)));\n",
       "    --sklearn-color-background: var(--sg-background-color, var(--theme-background, var(--jp-layout-color0, #111)));\n",
       "    --sklearn-color-border-box: var(--sg-text-color, var(--theme-code-foreground, var(--jp-content-font-color1, white)));\n",
       "    --sklearn-color-icon: #878787;\n",
       "  }\n",
       "}\n",
       "\n",
       "#sk-container-id-2 {\n",
       "  color: var(--sklearn-color-text);\n",
       "}\n",
       "\n",
       "#sk-container-id-2 pre {\n",
       "  padding: 0;\n",
       "}\n",
       "\n",
       "#sk-container-id-2 input.sk-hidden--visually {\n",
       "  border: 0;\n",
       "  clip: rect(1px 1px 1px 1px);\n",
       "  clip: rect(1px, 1px, 1px, 1px);\n",
       "  height: 1px;\n",
       "  margin: -1px;\n",
       "  overflow: hidden;\n",
       "  padding: 0;\n",
       "  position: absolute;\n",
       "  width: 1px;\n",
       "}\n",
       "\n",
       "#sk-container-id-2 div.sk-dashed-wrapped {\n",
       "  border: 1px dashed var(--sklearn-color-line);\n",
       "  margin: 0 0.4em 0.5em 0.4em;\n",
       "  box-sizing: border-box;\n",
       "  padding-bottom: 0.4em;\n",
       "  background-color: var(--sklearn-color-background);\n",
       "}\n",
       "\n",
       "#sk-container-id-2 div.sk-container {\n",
       "  /* jupyter's `normalize.less` sets `[hidden] { display: none; }`\n",
       "     but bootstrap.min.css set `[hidden] { display: none !important; }`\n",
       "     so we also need the `!important` here to be able to override the\n",
       "     default hidden behavior on the sphinx rendered scikit-learn.org.\n",
       "     See: https://github.com/scikit-learn/scikit-learn/issues/21755 */\n",
       "  display: inline-block !important;\n",
       "  position: relative;\n",
       "}\n",
       "\n",
       "#sk-container-id-2 div.sk-text-repr-fallback {\n",
       "  display: none;\n",
       "}\n",
       "\n",
       "div.sk-parallel-item,\n",
       "div.sk-serial,\n",
       "div.sk-item {\n",
       "  /* draw centered vertical line to link estimators */\n",
       "  background-image: linear-gradient(var(--sklearn-color-text-on-default-background), var(--sklearn-color-text-on-default-background));\n",
       "  background-size: 2px 100%;\n",
       "  background-repeat: no-repeat;\n",
       "  background-position: center center;\n",
       "}\n",
       "\n",
       "/* Parallel-specific style estimator block */\n",
       "\n",
       "#sk-container-id-2 div.sk-parallel-item::after {\n",
       "  content: \"\";\n",
       "  width: 100%;\n",
       "  border-bottom: 2px solid var(--sklearn-color-text-on-default-background);\n",
       "  flex-grow: 1;\n",
       "}\n",
       "\n",
       "#sk-container-id-2 div.sk-parallel {\n",
       "  display: flex;\n",
       "  align-items: stretch;\n",
       "  justify-content: center;\n",
       "  background-color: var(--sklearn-color-background);\n",
       "  position: relative;\n",
       "}\n",
       "\n",
       "#sk-container-id-2 div.sk-parallel-item {\n",
       "  display: flex;\n",
       "  flex-direction: column;\n",
       "}\n",
       "\n",
       "#sk-container-id-2 div.sk-parallel-item:first-child::after {\n",
       "  align-self: flex-end;\n",
       "  width: 50%;\n",
       "}\n",
       "\n",
       "#sk-container-id-2 div.sk-parallel-item:last-child::after {\n",
       "  align-self: flex-start;\n",
       "  width: 50%;\n",
       "}\n",
       "\n",
       "#sk-container-id-2 div.sk-parallel-item:only-child::after {\n",
       "  width: 0;\n",
       "}\n",
       "\n",
       "/* Serial-specific style estimator block */\n",
       "\n",
       "#sk-container-id-2 div.sk-serial {\n",
       "  display: flex;\n",
       "  flex-direction: column;\n",
       "  align-items: center;\n",
       "  background-color: var(--sklearn-color-background);\n",
       "  padding-right: 1em;\n",
       "  padding-left: 1em;\n",
       "}\n",
       "\n",
       "\n",
       "/* Toggleable style: style used for estimator/Pipeline/ColumnTransformer box that is\n",
       "clickable and can be expanded/collapsed.\n",
       "- Pipeline and ColumnTransformer use this feature and define the default style\n",
       "- Estimators will overwrite some part of the style using the `sk-estimator` class\n",
       "*/\n",
       "\n",
       "/* Pipeline and ColumnTransformer style (default) */\n",
       "\n",
       "#sk-container-id-2 div.sk-toggleable {\n",
       "  /* Default theme specific background. It is overwritten whether we have a\n",
       "  specific estimator or a Pipeline/ColumnTransformer */\n",
       "  background-color: var(--sklearn-color-background);\n",
       "}\n",
       "\n",
       "/* Toggleable label */\n",
       "#sk-container-id-2 label.sk-toggleable__label {\n",
       "  cursor: pointer;\n",
       "  display: flex;\n",
       "  width: 100%;\n",
       "  margin-bottom: 0;\n",
       "  padding: 0.5em;\n",
       "  box-sizing: border-box;\n",
       "  text-align: center;\n",
       "  align-items: start;\n",
       "  justify-content: space-between;\n",
       "  gap: 0.5em;\n",
       "}\n",
       "\n",
       "#sk-container-id-2 label.sk-toggleable__label .caption {\n",
       "  font-size: 0.6rem;\n",
       "  font-weight: lighter;\n",
       "  color: var(--sklearn-color-text-muted);\n",
       "}\n",
       "\n",
       "#sk-container-id-2 label.sk-toggleable__label-arrow:before {\n",
       "  /* Arrow on the left of the label */\n",
       "  content: \"▸\";\n",
       "  float: left;\n",
       "  margin-right: 0.25em;\n",
       "  color: var(--sklearn-color-icon);\n",
       "}\n",
       "\n",
       "#sk-container-id-2 label.sk-toggleable__label-arrow:hover:before {\n",
       "  color: var(--sklearn-color-text);\n",
       "}\n",
       "\n",
       "/* Toggleable content - dropdown */\n",
       "\n",
       "#sk-container-id-2 div.sk-toggleable__content {\n",
       "  max-height: 0;\n",
       "  max-width: 0;\n",
       "  overflow: hidden;\n",
       "  text-align: left;\n",
       "  /* unfitted */\n",
       "  background-color: var(--sklearn-color-unfitted-level-0);\n",
       "}\n",
       "\n",
       "#sk-container-id-2 div.sk-toggleable__content.fitted {\n",
       "  /* fitted */\n",
       "  background-color: var(--sklearn-color-fitted-level-0);\n",
       "}\n",
       "\n",
       "#sk-container-id-2 div.sk-toggleable__content pre {\n",
       "  margin: 0.2em;\n",
       "  border-radius: 0.25em;\n",
       "  color: var(--sklearn-color-text);\n",
       "  /* unfitted */\n",
       "  background-color: var(--sklearn-color-unfitted-level-0);\n",
       "}\n",
       "\n",
       "#sk-container-id-2 div.sk-toggleable__content.fitted pre {\n",
       "  /* unfitted */\n",
       "  background-color: var(--sklearn-color-fitted-level-0);\n",
       "}\n",
       "\n",
       "#sk-container-id-2 input.sk-toggleable__control:checked~div.sk-toggleable__content {\n",
       "  /* Expand drop-down */\n",
       "  max-height: 200px;\n",
       "  max-width: 100%;\n",
       "  overflow: auto;\n",
       "}\n",
       "\n",
       "#sk-container-id-2 input.sk-toggleable__control:checked~label.sk-toggleable__label-arrow:before {\n",
       "  content: \"▾\";\n",
       "}\n",
       "\n",
       "/* Pipeline/ColumnTransformer-specific style */\n",
       "\n",
       "#sk-container-id-2 div.sk-label input.sk-toggleable__control:checked~label.sk-toggleable__label {\n",
       "  color: var(--sklearn-color-text);\n",
       "  background-color: var(--sklearn-color-unfitted-level-2);\n",
       "}\n",
       "\n",
       "#sk-container-id-2 div.sk-label.fitted input.sk-toggleable__control:checked~label.sk-toggleable__label {\n",
       "  background-color: var(--sklearn-color-fitted-level-2);\n",
       "}\n",
       "\n",
       "/* Estimator-specific style */\n",
       "\n",
       "/* Colorize estimator box */\n",
       "#sk-container-id-2 div.sk-estimator input.sk-toggleable__control:checked~label.sk-toggleable__label {\n",
       "  /* unfitted */\n",
       "  background-color: var(--sklearn-color-unfitted-level-2);\n",
       "}\n",
       "\n",
       "#sk-container-id-2 div.sk-estimator.fitted input.sk-toggleable__control:checked~label.sk-toggleable__label {\n",
       "  /* fitted */\n",
       "  background-color: var(--sklearn-color-fitted-level-2);\n",
       "}\n",
       "\n",
       "#sk-container-id-2 div.sk-label label.sk-toggleable__label,\n",
       "#sk-container-id-2 div.sk-label label {\n",
       "  /* The background is the default theme color */\n",
       "  color: var(--sklearn-color-text-on-default-background);\n",
       "}\n",
       "\n",
       "/* On hover, darken the color of the background */\n",
       "#sk-container-id-2 div.sk-label:hover label.sk-toggleable__label {\n",
       "  color: var(--sklearn-color-text);\n",
       "  background-color: var(--sklearn-color-unfitted-level-2);\n",
       "}\n",
       "\n",
       "/* Label box, darken color on hover, fitted */\n",
       "#sk-container-id-2 div.sk-label.fitted:hover label.sk-toggleable__label.fitted {\n",
       "  color: var(--sklearn-color-text);\n",
       "  background-color: var(--sklearn-color-fitted-level-2);\n",
       "}\n",
       "\n",
       "/* Estimator label */\n",
       "\n",
       "#sk-container-id-2 div.sk-label label {\n",
       "  font-family: monospace;\n",
       "  font-weight: bold;\n",
       "  display: inline-block;\n",
       "  line-height: 1.2em;\n",
       "}\n",
       "\n",
       "#sk-container-id-2 div.sk-label-container {\n",
       "  text-align: center;\n",
       "}\n",
       "\n",
       "/* Estimator-specific */\n",
       "#sk-container-id-2 div.sk-estimator {\n",
       "  font-family: monospace;\n",
       "  border: 1px dotted var(--sklearn-color-border-box);\n",
       "  border-radius: 0.25em;\n",
       "  box-sizing: border-box;\n",
       "  margin-bottom: 0.5em;\n",
       "  /* unfitted */\n",
       "  background-color: var(--sklearn-color-unfitted-level-0);\n",
       "}\n",
       "\n",
       "#sk-container-id-2 div.sk-estimator.fitted {\n",
       "  /* fitted */\n",
       "  background-color: var(--sklearn-color-fitted-level-0);\n",
       "}\n",
       "\n",
       "/* on hover */\n",
       "#sk-container-id-2 div.sk-estimator:hover {\n",
       "  /* unfitted */\n",
       "  background-color: var(--sklearn-color-unfitted-level-2);\n",
       "}\n",
       "\n",
       "#sk-container-id-2 div.sk-estimator.fitted:hover {\n",
       "  /* fitted */\n",
       "  background-color: var(--sklearn-color-fitted-level-2);\n",
       "}\n",
       "\n",
       "/* Specification for estimator info (e.g. \"i\" and \"?\") */\n",
       "\n",
       "/* Common style for \"i\" and \"?\" */\n",
       "\n",
       ".sk-estimator-doc-link,\n",
       "a:link.sk-estimator-doc-link,\n",
       "a:visited.sk-estimator-doc-link {\n",
       "  float: right;\n",
       "  font-size: smaller;\n",
       "  line-height: 1em;\n",
       "  font-family: monospace;\n",
       "  background-color: var(--sklearn-color-background);\n",
       "  border-radius: 1em;\n",
       "  height: 1em;\n",
       "  width: 1em;\n",
       "  text-decoration: none !important;\n",
       "  margin-left: 0.5em;\n",
       "  text-align: center;\n",
       "  /* unfitted */\n",
       "  border: var(--sklearn-color-unfitted-level-1) 1pt solid;\n",
       "  color: var(--sklearn-color-unfitted-level-1);\n",
       "}\n",
       "\n",
       ".sk-estimator-doc-link.fitted,\n",
       "a:link.sk-estimator-doc-link.fitted,\n",
       "a:visited.sk-estimator-doc-link.fitted {\n",
       "  /* fitted */\n",
       "  border: var(--sklearn-color-fitted-level-1) 1pt solid;\n",
       "  color: var(--sklearn-color-fitted-level-1);\n",
       "}\n",
       "\n",
       "/* On hover */\n",
       "div.sk-estimator:hover .sk-estimator-doc-link:hover,\n",
       ".sk-estimator-doc-link:hover,\n",
       "div.sk-label-container:hover .sk-estimator-doc-link:hover,\n",
       ".sk-estimator-doc-link:hover {\n",
       "  /* unfitted */\n",
       "  background-color: var(--sklearn-color-unfitted-level-3);\n",
       "  color: var(--sklearn-color-background);\n",
       "  text-decoration: none;\n",
       "}\n",
       "\n",
       "div.sk-estimator.fitted:hover .sk-estimator-doc-link.fitted:hover,\n",
       ".sk-estimator-doc-link.fitted:hover,\n",
       "div.sk-label-container:hover .sk-estimator-doc-link.fitted:hover,\n",
       ".sk-estimator-doc-link.fitted:hover {\n",
       "  /* fitted */\n",
       "  background-color: var(--sklearn-color-fitted-level-3);\n",
       "  color: var(--sklearn-color-background);\n",
       "  text-decoration: none;\n",
       "}\n",
       "\n",
       "/* Span, style for the box shown on hovering the info icon */\n",
       ".sk-estimator-doc-link span {\n",
       "  display: none;\n",
       "  z-index: 9999;\n",
       "  position: relative;\n",
       "  font-weight: normal;\n",
       "  right: .2ex;\n",
       "  padding: .5ex;\n",
       "  margin: .5ex;\n",
       "  width: min-content;\n",
       "  min-width: 20ex;\n",
       "  max-width: 50ex;\n",
       "  color: var(--sklearn-color-text);\n",
       "  box-shadow: 2pt 2pt 4pt #999;\n",
       "  /* unfitted */\n",
       "  background: var(--sklearn-color-unfitted-level-0);\n",
       "  border: .5pt solid var(--sklearn-color-unfitted-level-3);\n",
       "}\n",
       "\n",
       ".sk-estimator-doc-link.fitted span {\n",
       "  /* fitted */\n",
       "  background: var(--sklearn-color-fitted-level-0);\n",
       "  border: var(--sklearn-color-fitted-level-3);\n",
       "}\n",
       "\n",
       ".sk-estimator-doc-link:hover span {\n",
       "  display: block;\n",
       "}\n",
       "\n",
       "/* \"?\"-specific style due to the `<a>` HTML tag */\n",
       "\n",
       "#sk-container-id-2 a.estimator_doc_link {\n",
       "  float: right;\n",
       "  font-size: 1rem;\n",
       "  line-height: 1em;\n",
       "  font-family: monospace;\n",
       "  background-color: var(--sklearn-color-background);\n",
       "  border-radius: 1rem;\n",
       "  height: 1rem;\n",
       "  width: 1rem;\n",
       "  text-decoration: none;\n",
       "  /* unfitted */\n",
       "  color: var(--sklearn-color-unfitted-level-1);\n",
       "  border: var(--sklearn-color-unfitted-level-1) 1pt solid;\n",
       "}\n",
       "\n",
       "#sk-container-id-2 a.estimator_doc_link.fitted {\n",
       "  /* fitted */\n",
       "  border: var(--sklearn-color-fitted-level-1) 1pt solid;\n",
       "  color: var(--sklearn-color-fitted-level-1);\n",
       "}\n",
       "\n",
       "/* On hover */\n",
       "#sk-container-id-2 a.estimator_doc_link:hover {\n",
       "  /* unfitted */\n",
       "  background-color: var(--sklearn-color-unfitted-level-3);\n",
       "  color: var(--sklearn-color-background);\n",
       "  text-decoration: none;\n",
       "}\n",
       "\n",
       "#sk-container-id-2 a.estimator_doc_link.fitted:hover {\n",
       "  /* fitted */\n",
       "  background-color: var(--sklearn-color-fitted-level-3);\n",
       "}\n",
       "</style><div id=\"sk-container-id-2\" class=\"sk-top-container\"><div class=\"sk-text-repr-fallback\"><pre>RandomForestClassifier(class_weight={0: 1, 1: np.float64(0.9465575349061146)},\n",
       "                       random_state=42)</pre><b>In a Jupyter environment, please rerun this cell to show the HTML representation or trust the notebook. <br />On GitHub, the HTML representation is unable to render, please try loading this page with nbviewer.org.</b></div><div class=\"sk-container\" hidden><div class=\"sk-item\"><div class=\"sk-estimator fitted sk-toggleable\"><input class=\"sk-toggleable__control sk-hidden--visually\" id=\"sk-estimator-id-2\" type=\"checkbox\" checked><label for=\"sk-estimator-id-2\" class=\"sk-toggleable__label fitted sk-toggleable__label-arrow\"><div><div>RandomForestClassifier</div></div><div><a class=\"sk-estimator-doc-link fitted\" rel=\"noreferrer\" target=\"_blank\" href=\"https://scikit-learn.org/1.6/modules/generated/sklearn.ensemble.RandomForestClassifier.html\">?<span>Documentation for RandomForestClassifier</span></a><span class=\"sk-estimator-doc-link fitted\">i<span>Fitted</span></span></div></label><div class=\"sk-toggleable__content fitted\"><pre>RandomForestClassifier(class_weight={0: 1, 1: np.float64(0.9465575349061146)},\n",
       "                       random_state=42)</pre></div> </div></div></div></div>"
      ],
      "text/plain": [
       "RandomForestClassifier(class_weight={0: 1, 1: np.float64(0.9465575349061146)},\n",
       "                       random_state=42)"
      ]
     },
     "execution_count": 61,
     "metadata": {},
     "output_type": "execute_result"
    }
   ],
   "source": [
    "from sklearn.ensemble import RandomForestClassifier\n",
    "\n",
    "# Exemple : ratio = n_negatifs / n_positifs\n",
    "model = RandomForestClassifier(class_weight={0: 1, 1: ratio}, random_state=42)\n",
    "model.fit(X_train, y_train)\n"
   ]
  },
  {
   "cell_type": "code",
   "execution_count": null,
   "metadata": {
    "colab": {
     "base_uri": "https://localhost:8080/"
    },
    "executionInfo": {
     "elapsed": 17,
     "status": "ok",
     "timestamp": 1746188772336,
     "user": {
      "displayName": "daouda dieme",
      "userId": "16090975305300597295"
     },
     "user_tz": 0
    },
    "id": "0a07FFT1Uon9",
    "outputId": "03e25dad-bac1-4dc4-f0f2-1c6edf20fdcb"
   },
   "outputs": [
    {
     "name": "stdout",
     "output_type": "stream",
     "text": [
      "Counter({1: 2077, 0: 1966})\n",
      "Ratio : 0.0\n"
     ]
    }
   ],
   "source": [
    "from collections import Counter\n",
    "\n",
    "# Compter les occurrences de chaque classe dans y_train\n",
    "class_counts = Counter(y_train)\n",
    "print(class_counts)  # Affiche les effectifs de chaque classe\n",
    "\n",
    "# Exemple : Classe majoritaire sur classe minoritaire\n",
    "# Supposons que la classe 2 soit majoritaire\n",
    "majority_class = class_counts[2]  # Par exemple, classe 2 (1492 exemples)\n",
    "minority_class = class_counts[0] + class_counts[1]  # Somme des classes 0 et 1 (9 + 16)\n",
    "\n",
    "# Calculer le ratio\n",
    "ratio = majority_class / minority_class\n",
    "print(f\"Ratio : {ratio}\")\n"
   ]
  },
  {
   "cell_type": "code",
   "execution_count": null,
   "metadata": {
    "colab": {
     "base_uri": "https://localhost:8080/"
    },
    "executionInfo": {
     "elapsed": 10,
     "status": "ok",
     "timestamp": 1746188778185,
     "user": {
      "displayName": "daouda dieme",
      "userId": "16090975305300597295"
     },
     "user_tz": 0
    },
    "id": "OvxKR33dUon-",
    "outputId": "2b0120c0-388d-4257-a1aa-da075e5045ce"
   },
   "outputs": [
    {
     "name": "stdout",
     "output_type": "stream",
     "text": [
      "Pondérations des classes : [1.02822991 0.97327877]\n"
     ]
    }
   ],
   "source": [
    "from sklearn.utils.class_weight import compute_class_weight\n",
    "\n",
    "# Calculer les poids des classes automatiquement\n",
    "# Convert the list [0, 1, 2] to a NumPy array using np.array()\n",
    "class_weights = compute_class_weight('balanced', classes=np.array([0, 1]), y=y_train)\n",
    "print(f\"Pondérations des classes : {class_weights}\")"
   ]
  },
  {
   "cell_type": "code",
   "execution_count": null,
   "metadata": {
    "colab": {
     "base_uri": "https://localhost:8080/"
    },
    "executionInfo": {
     "elapsed": 18,
     "status": "ok",
     "timestamp": 1746188780350,
     "user": {
      "displayName": "daouda dieme",
      "userId": "16090975305300597295"
     },
     "user_tz": 0
    },
    "id": "TfYM0zxRUon-",
    "outputId": "437ac3a5-d6ca-45d4-dce2-d149ac732e14"
   },
   "outputs": [
    {
     "name": "stdout",
     "output_type": "stream",
     "text": [
      "Rapport de classification :\n",
      "              precision    recall  f1-score   support\n",
      "\n",
      "           0       1.00      1.00      1.00       489\n",
      "           1       1.00      1.00      1.00       522\n",
      "\n",
      "    accuracy                           1.00      1011\n",
      "   macro avg       1.00      1.00      1.00      1011\n",
      "weighted avg       1.00      1.00      1.00      1011\n",
      "\n"
     ]
    }
   ],
   "source": [
    "# Évaluation du modèle\n",
    "predictions = model.predict(X_test)\n",
    "print(\"Rapport de classification :\")\n",
    "print(classification_report(y_test, predictions))"
   ]
  },
  {
   "cell_type": "code",
   "execution_count": null,
   "metadata": {
    "colab": {
     "base_uri": "https://localhost:8080/",
     "height": 564
    },
    "executionInfo": {
     "elapsed": 165,
     "status": "ok",
     "timestamp": 1746188786763,
     "user": {
      "displayName": "daouda dieme",
      "userId": "16090975305300597295"
     },
     "user_tz": 0
    },
    "id": "rfbQi4ob34iO",
    "outputId": "13775068-4947-46ef-a1cf-fd64c28e6f04"
   },
   "outputs": [
    {
     "data": {
      "image/png": "[encoded data removed]",
      "text/plain": [
       "<Figure size 800x600 with 2 Axes>"
      ]
     },
     "metadata": {},
     "output_type": "display_data"
    }
   ],
   "source": [
    "import seaborn as sns\n",
    "import matplotlib.pyplot as plt\n",
    "from sklearn.metrics import confusion_matrix\n",
    "\n",
    "# Assuming 'model' is your trained model and 'X_test' is your test data\n",
    "y_pred_test = model.predict(X_test)  # Generate predictions\n",
    "\n",
    "# Generate the confusion matrix\n",
    "conf_matrix = confusion_matrix(y_test, y_pred_test)\n",
    "\n",
    "# Display with Seaborn\n",
    "plt.figure(figsize=(8, 6))\n",
    "sns.heatmap(conf_matrix, annot=True, fmt='d', cmap='Blues', xticklabels= np.unique(y_test), yticklabels=np.unique(y_test))\n",
    "plt.xlabel(\"Predictions\")\n",
    "plt.ylabel(\"True Values\")\n",
    "plt.title(\"Confusion Matrix\")\n",
    "plt.show()"
   ]
  },
  {
   "cell_type": "code",
   "execution_count": null,
   "metadata": {},
   "outputs": [
    {
     "name": "stdout",
     "output_type": "stream",
     "text": [
      "Scores de validation croisée : [0.99277978 1.         0.99759326 0.99879663 0.99879518]\n",
      "Moyenne des scores : 0.9975929711626289\n"
     ]
    }
   ],
   "source": [
    "from sklearn.model_selection import StratifiedKFold, cross_val_score\n",
    "from sklearn.ensemble import RandomForestClassifier\n",
    "\n",
    "# Définition du modèle avec class_weight\n",
    "model = RandomForestClassifier(n_estimators=500, max_depth=20, class_weight={0: 1, 1: 1, 2: 5}, random_state=42)\n",
    "\n",
    "# Validation croisée stratifiée (5 folds)\n",
    "cv = StratifiedKFold(n_splits=5, shuffle=True, random_state=42)\n",
    "scores = cross_val_score(model, X_train_balanced, y_train_balanced, cv=cv, scoring=\"accuracy\")\n",
    "\n",
    "print(\"Scores de validation croisée :\", scores)\n",
    "print(\"Moyenne des scores :\", scores.mean())\n"
   ]
  },
  {
   "cell_type": "markdown",
   "metadata": {
    "id": "jjej3LM3CaAK"
   },
   "source": [
    "VALIDATION CROISEE"
   ]
  },
  {
   "cell_type": "code",
   "execution_count": null,
   "metadata": {
    "colab": {
     "base_uri": "https://localhost:8080/",
     "height": 638
    },
    "executionInfo": {
     "elapsed": 4301,
     "status": "ok",
     "timestamp": 1746188797701,
     "user": {
      "displayName": "daouda dieme",
      "userId": "16090975305300597295"
     },
     "user_tz": 0
    },
    "id": "TriT66nXDwDT",
    "outputId": "491ea4ee-4121-49a7-a15e-3b26618c5039"
   },
   "outputs": [
    {
     "name": "stdout",
     "output_type": "stream",
     "text": [
      "Scores de validation croisée (F1-score pondéré) pour chaque pli : [0.99406406 0.97923276 0.96933543 0.97725448 0.98414927]\n",
      "F1-score moyen : 0.980807198273723\n",
      "Caractéristiques les plus importantes :\n",
      "                                              Feature  Importance\n",
      "91      q601_ne_pas_manger_nourriture_saine_nutritive    0.230753\n",
      "92                  q602_manger_nourriture_peu_variee    0.145689\n",
      "90  q600_inquiets_de_ne_pas_avoir_suffisamment_de_...    0.107852\n",
      "94        q604_manger_moins_que_ce_que_vous_auriez_du    0.067835\n",
      "93                               q603_sauter_un_repas    0.065926\n",
      "96               q606_1_avoir_faim_mais_ne_pas_manger    0.028686\n",
      "95  q605_1_ne_plus_avoir_de_nourriture_pas_suffisa...    0.022928\n",
      "33  q403_2_montant_depense_eau_electricite_gaz_ecl...    0.018635\n",
      "46                                   DEPENSES_TOTALES    0.016437\n",
      "45                                             rCSI_r    0.015960\n"
     ]
    },
    {
     "data": {
      "image/png": "[encoded data removed]",
      "text/plain": [
       "<Figure size 1000x600 with 1 Axes>"
      ]
     },
     "metadata": {},
     "output_type": "display_data"
    }
   ],
   "source": [
    "import pandas as pd\n",
    "import matplotlib.pyplot as plt\n",
    "from sklearn.model_selection import cross_val_score\n",
    "from sklearn.ensemble import RandomForestClassifier\n",
    "\n",
    "# Assuming 'data_encoded' is your DataFrame containing the features and target\n",
    "# Replace 'target_column_name' with the actual name of your target column\n",
    "features = data_encoded.drop(columns=['insécurité_alimentaire'])  # Features (all columns except target)\n",
    "labels = data_encoded['insécurité_alimentaire']  # Target variable\n",
    "\n",
    "# Création du modèle\n",
    "#model = RandomForestClassifier(random_state=42)\n",
    "\n",
    "# Fit the model before accessing feature_importances_\n",
    "model.fit(features, labels)  # Fit to the entire dataset or use train/test split if needed\n",
    "\n",
    "# Exécution de la validation croisée\n",
    "scores = cross_val_score(model, features, labels, cv=5, scoring='f1_weighted')  # 5 plis et F1-score pondéré# Résultats de la validation croisée\n",
    "print(\"Scores de validation croisée (F1-score pondéré) pour chaque pli :\", scores)\n",
    "print(\"F1-score moyen :\", scores.mean())\n",
    "\n",
    "\n",
    "# Vérification des importances des caractéristiques\n",
    "importances = model.feature_importances_\n",
    "feature_names = features.columns\n",
    "\n",
    "# Création d'un DataFrame pour afficher les résultats\n",
    "importance_data = pd.DataFrame({\n",
    "    'Feature': feature_names,\n",
    "    'Importance': importances\n",
    "}).sort_values(by='Importance', ascending=False)\n",
    "\n",
    "# Affichage des 10 caractéristiques les plus importantes\n",
    "print(\"Caractéristiques les plus importantes :\")\n",
    "print(importance_data.head(10))\n",
    "\n",
    "# Visualisation des importances des variables\n",
    "plt.figure(figsize=(10, 6))\n",
    "plt.barh(importance_data['Feature'][:10], importance_data['Importance'][:10], color='skyblue')\n",
    "plt.xlabel('Importance')\n",
    "plt.ylabel('Caractéristiques')\n",
    "plt.title('Top 10 des variables importantes')\n",
    "plt.gca().invert_yaxis()  # Inversion pour afficher les plus importantes en haut\n",
    "plt.show()"
   ]
  },
  {
   "cell_type": "code",
   "execution_count": null,
   "metadata": {
    "colab": {
     "base_uri": "https://localhost:8080/"
    },
    "executionInfo": {
     "elapsed": 619,
     "status": "ok",
     "timestamp": 1746188805539,
     "user": {
      "displayName": "daouda dieme",
      "userId": "16090975305300597295"
     },
     "user_tz": 0
    },
    "id": "2pgvcLbtUon_",
    "outputId": "5a37a7e0-be70-42d1-de6f-5f0c3a8b173b"
   },
   "outputs": [
    {
     "name": "stdout",
     "output_type": "stream",
     "text": [
      "Scores pour chaque pli : [0.99752645 0.99134094 0.9950529  0.99628357 0.99752323]\n",
      "Score moyen : 1.00\n",
      "Écart-type : 0.00\n"
     ]
    }
   ],
   "source": [
    "from sklearn.ensemble import RandomForestClassifier\n",
    "from sklearn.model_selection import cross_val_score\n",
    "\n",
    "# Initialisation du modèle Random Forest\n",
    "model = RandomForestClassifier(\n",
    "    n_estimators=100,\n",
    "    max_depth=6,\n",
    "    random_state=42\n",
    ")\n",
    "\n",
    "# Validation croisée\n",
    "scores = cross_val_score(model, X_train, y_train, cv=5, scoring='f1_macro')\n",
    "\n",
    "# Affichage des résultats\n",
    "print(\"Scores pour chaque pli :\", scores)\n",
    "print(f\"Score moyen : {scores.mean():.2f}\")\n",
    "print(f\"Écart-type : {scores.std():.2f}\")\n",
    "\n"
   ]
  },
  {
   "cell_type": "code",
   "execution_count": null,
   "metadata": {
    "colab": {
     "base_uri": "https://localhost:8080/"
    },
    "executionInfo": {
     "elapsed": 16651,
     "status": "ok",
     "timestamp": 1746188827880,
     "user": {
      "displayName": "daouda dieme",
      "userId": "16090975305300597295"
     },
     "user_tz": 0
    },
    "id": "z5LmyxAFUon_",
    "outputId": "4e33929f-1784-4cb8-d261-9bdd4dba00f8"
   },
   "outputs": [
    {
     "name": "stdout",
     "output_type": "stream",
     "text": [
      "Résultats détaillés : {'fit_time': array([0.36462879, 0.41334772, 0.49246454, 0.43791318, 0.41811848]), 'score_time': array([0.01109862, 0.0124011 , 0.01599646, 0.01669216, 0.01270223]), 'test_accuracy': array([0.99703264, 0.99307616, 0.96834817, 0.97626113, 0.98415842]), 'test_f1_macro': array([0.99702967, 0.99307158, 0.96834789, 0.97625925, 0.98413097])}\n"
     ]
    }
   ],
   "source": [
    "from sklearn.model_selection import cross_validate\n",
    "results = cross_validate(model, features, labels, cv=5, scoring=['accuracy', 'f1_macro'])\n",
    "print(\"Résultats détaillés :\", results)\n"
   ]
  },
  {
   "cell_type": "code",
   "execution_count": null,
   "metadata": {
    "colab": {
     "base_uri": "https://localhost:8080/"
    },
    "executionInfo": {
     "elapsed": 119,
     "status": "ok",
     "timestamp": 1746188859732,
     "user": {
      "displayName": "daouda dieme",
      "userId": "16090975305300597295"
     },
     "user_tz": 0
    },
    "id": "uGDwLuYGcLTl",
    "outputId": "fa550976-566d-4d2c-ca20-1555e0a6ad80"
   },
   "outputs": [
    {
     "name": "stdout",
     "output_type": "stream",
     "text": [
      "Les 10 variables les plus corrélées :\n",
      "q601_ne_pas_manger_nourriture_saine_nutritive                   0.693489\n",
      "q600_inquiets_de_ne_pas_avoir_suffisamment_de_nourriture        0.638057\n",
      "q602_manger_nourriture_peu_variee                               0.635798\n",
      "q604_manger_moins_que_ce_que_vous_auriez_du                     0.502412\n",
      "q603_sauter_un_repas                                            0.497120\n",
      "q605_1_ne_plus_avoir_de_nourriture_pas_suffisamment_d_argent    0.418861\n",
      "q606_1_avoir_faim_mais_ne_pas_manger                            0.409684\n",
      "PDAM__r_AP                                                      0.345789\n",
      "q212_1_principal_mode_evacuation_boues_vidange                  0.323701\n",
      "LCSI_24__r_AP                                                   0.315367\n",
      "Name: insécurité_alimentaire, dtype: float64\n",
      "Nouveau dataset avec les 10 variables les plus corrélées :\n"
     ]
    }
   ],
   "source": [
    "# Calculer les corrélations avec la variable cible\n",
    "correlations = data_encoded.corr()\n",
    "\n",
    "# Trier les variables selon leur corrélation absolue avec la variable cible\n",
    "top_features = correlations['insécurité_alimentaire'].abs().sort_values(ascending=False).iloc[1:11]\n",
    "\n",
    "# Afficher les 10 variables les plus corrélées\n",
    "print(\"Les 10 variables les plus corrélées :\")\n",
    "print(top_features)\n",
    "\n",
    "# Conserver uniquement ces variables dans un nouveau dataset\n",
    "top_features_names = top_features.index.tolist()\n",
    "data_reduced = data_encoded[top_features_names + ['insécurité_alimentaire']]  # Ajouter la cible pour l'analyse\n",
    "\n",
    "# Afficher le nouveau dataset\n",
    "print(\"Nouveau dataset avec les 10 variables les plus corrélées :\")\n",
    "#print(data_reduced.head())\n"
   ]
  },
  {
   "cell_type": "code",
   "execution_count": null,
   "metadata": {
    "colab": {
     "base_uri": "https://localhost:8080/",
     "height": 790
    },
    "executionInfo": {
     "elapsed": 714,
     "status": "ok",
     "timestamp": 1746188865958,
     "user": {
      "displayName": "daouda dieme",
      "userId": "16090975305300597295"
     },
     "user_tz": 0
    },
    "id": "UhOxKXNQdbrM",
    "outputId": "5a457a73-e0cf-4f95-ec8a-7fbaee5b24b2"
   },
   "outputs": [
    {
     "data": {
      "image/png": "[encoded data removed]",
      "text/plain": [
       "<Figure size 640x480 with 2 Axes>"
      ]
     },
     "metadata": {},
     "output_type": "display_data"
    }
   ],
   "source": [
    "import seaborn as sns\n",
    "import matplotlib.pyplot as plt\n",
    "\n",
    "# Matrice de corrélation des 10 meilleures variables + cible\n",
    "sns.heatmap(data_reduced.corr(), annot=True, cmap='coolwarm')\n",
    "plt.title(\"Matrice de corrélation des 10 variables les plus corrélées\")\n",
    "plt.show()\n",
    "\n"
   ]
  },
  {
   "cell_type": "code",
   "execution_count": null,
   "metadata": {
    "colab": {
     "base_uri": "https://localhost:8080/"
    },
    "executionInfo": {
     "elapsed": 52,
     "status": "ok",
     "timestamp": 1746188873654,
     "user": {
      "displayName": "daouda dieme",
      "userId": "16090975305300597295"
     },
     "user_tz": 0
    },
    "id": "T29K92whdo98",
    "outputId": "0fc17dbd-790d-49bf-c08a-e69c02562f13"
   },
   "outputs": [
    {
     "name": "stdout",
     "output_type": "stream",
     "text": [
      "Variables fortement corrélées entre elles : ['q602_manger_nourriture_peu_variee', 'q603_sauter_un_repas', 'q605_1_ne_plus_avoir_de_nourriture_pas_suffisamment_d_argent', 'q606_1_avoir_faim_mais_ne_pas_manger']\n"
     ]
    }
   ],
   "source": [
    "# Vérifiez si certaines des 10 variables sont trop fortement corrélées entre elles\n",
    "correlated_features = data_reduced.corr().abs()\n",
    "upper_triangle = correlated_features.where(np.triu(np.ones(correlated_features.shape), k=1).astype(bool))\n",
    "\n",
    "# Liste des variables trop fortement corrélées (par exemple, corrélation > 0.8)\n",
    "to_drop = [column for column in upper_triangle.columns if any(upper_triangle[column] > 0.8)]\n",
    "print(\"Variables fortement corrélées entre elles :\", to_drop)\n"
   ]
  },
  {
   "cell_type": "code",
   "execution_count": null,
   "metadata": {},
   "outputs": [
    {
     "data": {
      "text/html": [
       "<style>#sk-container-id-4 {\n",
       "  /* Definition of color scheme common for light and dark mode */\n",
       "  --sklearn-color-text: #000;\n",
       "  --sklearn-color-text-muted: #666;\n",
       "  --sklearn-color-line: gray;\n",
       "  /* Definition of color scheme for unfitted estimators */\n",
       "  --sklearn-color-unfitted-level-0: #fff5e6;\n",
       "  --sklearn-color-unfitted-level-1: #f6e4d2;\n",
       "  --sklearn-color-unfitted-level-2: #ffe0b3;\n",
       "  --sklearn-color-unfitted-level-3: chocolate;\n",
       "  /* Definition of color scheme for fitted estimators */\n",
       "  --sklearn-color-fitted-level-0: #f0f8ff;\n",
       "  --sklearn-color-fitted-level-1: #d4ebff;\n",
       "  --sklearn-color-fitted-level-2: #b3dbfd;\n",
       "  --sklearn-color-fitted-level-3: cornflowerblue;\n",
       "\n",
       "  /* Specific color for light theme */\n",
       "  --sklearn-color-text-on-default-background: var(--sg-text-color, var(--theme-code-foreground, var(--jp-content-font-color1, black)));\n",
       "  --sklearn-color-background: var(--sg-background-color, var(--theme-background, var(--jp-layout-color0, white)));\n",
       "  --sklearn-color-border-box: var(--sg-text-color, var(--theme-code-foreground, var(--jp-content-font-color1, black)));\n",
       "  --sklearn-color-icon: #696969;\n",
       "\n",
       "  @media (prefers-color-scheme: dark) {\n",
       "    /* Redefinition of color scheme for dark theme */\n",
       "    --sklearn-color-text-on-default-background: var(--sg-text-color, var(--theme-code-foreground, var(--jp-content-font-color1, white)));\n",
       "    --sklearn-color-background: var(--sg-background-color, var(--theme-background, var(--jp-layout-color0, #111)));\n",
       "    --sklearn-color-border-box: var(--sg-text-color, var(--theme-code-foreground, var(--jp-content-font-color1, white)));\n",
       "    --sklearn-color-icon: #878787;\n",
       "  }\n",
       "}\n",
       "\n",
       "#sk-container-id-4 {\n",
       "  color: var(--sklearn-color-text);\n",
       "}\n",
       "\n",
       "#sk-container-id-4 pre {\n",
       "  padding: 0;\n",
       "}\n",
       "\n",
       "#sk-container-id-4 input.sk-hidden--visually {\n",
       "  border: 0;\n",
       "  clip: rect(1px 1px 1px 1px);\n",
       "  clip: rect(1px, 1px, 1px, 1px);\n",
       "  height: 1px;\n",
       "  margin: -1px;\n",
       "  overflow: hidden;\n",
       "  padding: 0;\n",
       "  position: absolute;\n",
       "  width: 1px;\n",
       "}\n",
       "\n",
       "#sk-container-id-4 div.sk-dashed-wrapped {\n",
       "  border: 1px dashed var(--sklearn-color-line);\n",
       "  margin: 0 0.4em 0.5em 0.4em;\n",
       "  box-sizing: border-box;\n",
       "  padding-bottom: 0.4em;\n",
       "  background-color: var(--sklearn-color-background);\n",
       "}\n",
       "\n",
       "#sk-container-id-4 div.sk-container {\n",
       "  /* jupyter's `normalize.less` sets `[hidden] { display: none; }`\n",
       "     but bootstrap.min.css set `[hidden] { display: none !important; }`\n",
       "     so we also need the `!important` here to be able to override the\n",
       "     default hidden behavior on the sphinx rendered scikit-learn.org.\n",
       "     See: https://github.com/scikit-learn/scikit-learn/issues/21755 */\n",
       "  display: inline-block !important;\n",
       "  position: relative;\n",
       "}\n",
       "\n",
       "#sk-container-id-4 div.sk-text-repr-fallback {\n",
       "  display: none;\n",
       "}\n",
       "\n",
       "div.sk-parallel-item,\n",
       "div.sk-serial,\n",
       "div.sk-item {\n",
       "  /* draw centered vertical line to link estimators */\n",
       "  background-image: linear-gradient(var(--sklearn-color-text-on-default-background), var(--sklearn-color-text-on-default-background));\n",
       "  background-size: 2px 100%;\n",
       "  background-repeat: no-repeat;\n",
       "  background-position: center center;\n",
       "}\n",
       "\n",
       "/* Parallel-specific style estimator block */\n",
       "\n",
       "#sk-container-id-4 div.sk-parallel-item::after {\n",
       "  content: \"\";\n",
       "  width: 100%;\n",
       "  border-bottom: 2px solid var(--sklearn-color-text-on-default-background);\n",
       "  flex-grow: 1;\n",
       "}\n",
       "\n",
       "#sk-container-id-4 div.sk-parallel {\n",
       "  display: flex;\n",
       "  align-items: stretch;\n",
       "  justify-content: center;\n",
       "  background-color: var(--sklearn-color-background);\n",
       "  position: relative;\n",
       "}\n",
       "\n",
       "#sk-container-id-4 div.sk-parallel-item {\n",
       "  display: flex;\n",
       "  flex-direction: column;\n",
       "}\n",
       "\n",
       "#sk-container-id-4 div.sk-parallel-item:first-child::after {\n",
       "  align-self: flex-end;\n",
       "  width: 50%;\n",
       "}\n",
       "\n",
       "#sk-container-id-4 div.sk-parallel-item:last-child::after {\n",
       "  align-self: flex-start;\n",
       "  width: 50%;\n",
       "}\n",
       "\n",
       "#sk-container-id-4 div.sk-parallel-item:only-child::after {\n",
       "  width: 0;\n",
       "}\n",
       "\n",
       "/* Serial-specific style estimator block */\n",
       "\n",
       "#sk-container-id-4 div.sk-serial {\n",
       "  display: flex;\n",
       "  flex-direction: column;\n",
       "  align-items: center;\n",
       "  background-color: var(--sklearn-color-background);\n",
       "  padding-right: 1em;\n",
       "  padding-left: 1em;\n",
       "}\n",
       "\n",
       "\n",
       "/* Toggleable style: style used for estimator/Pipeline/ColumnTransformer box that is\n",
       "clickable and can be expanded/collapsed.\n",
       "- Pipeline and ColumnTransformer use this feature and define the default style\n",
       "- Estimators will overwrite some part of the style using the `sk-estimator` class\n",
       "*/\n",
       "\n",
       "/* Pipeline and ColumnTransformer style (default) */\n",
       "\n",
       "#sk-container-id-4 div.sk-toggleable {\n",
       "  /* Default theme specific background. It is overwritten whether we have a\n",
       "  specific estimator or a Pipeline/ColumnTransformer */\n",
       "  background-color: var(--sklearn-color-background);\n",
       "}\n",
       "\n",
       "/* Toggleable label */\n",
       "#sk-container-id-4 label.sk-toggleable__label {\n",
       "  cursor: pointer;\n",
       "  display: flex;\n",
       "  width: 100%;\n",
       "  margin-bottom: 0;\n",
       "  padding: 0.5em;\n",
       "  box-sizing: border-box;\n",
       "  text-align: center;\n",
       "  align-items: start;\n",
       "  justify-content: space-between;\n",
       "  gap: 0.5em;\n",
       "}\n",
       "\n",
       "#sk-container-id-4 label.sk-toggleable__label .caption {\n",
       "  font-size: 0.6rem;\n",
       "  font-weight: lighter;\n",
       "  color: var(--sklearn-color-text-muted);\n",
       "}\n",
       "\n",
       "#sk-container-id-4 label.sk-toggleable__label-arrow:before {\n",
       "  /* Arrow on the left of the label */\n",
       "  content: \"▸\";\n",
       "  float: left;\n",
       "  margin-right: 0.25em;\n",
       "  color: var(--sklearn-color-icon);\n",
       "}\n",
       "\n",
       "#sk-container-id-4 label.sk-toggleable__label-arrow:hover:before {\n",
       "  color: var(--sklearn-color-text);\n",
       "}\n",
       "\n",
       "/* Toggleable content - dropdown */\n",
       "\n",
       "#sk-container-id-4 div.sk-toggleable__content {\n",
       "  max-height: 0;\n",
       "  max-width: 0;\n",
       "  overflow: hidden;\n",
       "  text-align: left;\n",
       "  /* unfitted */\n",
       "  background-color: var(--sklearn-color-unfitted-level-0);\n",
       "}\n",
       "\n",
       "#sk-container-id-4 div.sk-toggleable__content.fitted {\n",
       "  /* fitted */\n",
       "  background-color: var(--sklearn-color-fitted-level-0);\n",
       "}\n",
       "\n",
       "#sk-container-id-4 div.sk-toggleable__content pre {\n",
       "  margin: 0.2em;\n",
       "  border-radius: 0.25em;\n",
       "  color: var(--sklearn-color-text);\n",
       "  /* unfitted */\n",
       "  background-color: var(--sklearn-color-unfitted-level-0);\n",
       "}\n",
       "\n",
       "#sk-container-id-4 div.sk-toggleable__content.fitted pre {\n",
       "  /* unfitted */\n",
       "  background-color: var(--sklearn-color-fitted-level-0);\n",
       "}\n",
       "\n",
       "#sk-container-id-4 input.sk-toggleable__control:checked~div.sk-toggleable__content {\n",
       "  /* Expand drop-down */\n",
       "  max-height: 200px;\n",
       "  max-width: 100%;\n",
       "  overflow: auto;\n",
       "}\n",
       "\n",
       "#sk-container-id-4 input.sk-toggleable__control:checked~label.sk-toggleable__label-arrow:before {\n",
       "  content: \"▾\";\n",
       "}\n",
       "\n",
       "/* Pipeline/ColumnTransformer-specific style */\n",
       "\n",
       "#sk-container-id-4 div.sk-label input.sk-toggleable__control:checked~label.sk-toggleable__label {\n",
       "  color: var(--sklearn-color-text);\n",
       "  background-color: var(--sklearn-color-unfitted-level-2);\n",
       "}\n",
       "\n",
       "#sk-container-id-4 div.sk-label.fitted input.sk-toggleable__control:checked~label.sk-toggleable__label {\n",
       "  background-color: var(--sklearn-color-fitted-level-2);\n",
       "}\n",
       "\n",
       "/* Estimator-specific style */\n",
       "\n",
       "/* Colorize estimator box */\n",
       "#sk-container-id-4 div.sk-estimator input.sk-toggleable__control:checked~label.sk-toggleable__label {\n",
       "  /* unfitted */\n",
       "  background-color: var(--sklearn-color-unfitted-level-2);\n",
       "}\n",
       "\n",
       "#sk-container-id-4 div.sk-estimator.fitted input.sk-toggleable__control:checked~label.sk-toggleable__label {\n",
       "  /* fitted */\n",
       "  background-color: var(--sklearn-color-fitted-level-2);\n",
       "}\n",
       "\n",
       "#sk-container-id-4 div.sk-label label.sk-toggleable__label,\n",
       "#sk-container-id-4 div.sk-label label {\n",
       "  /* The background is the default theme color */\n",
       "  color: var(--sklearn-color-text-on-default-background);\n",
       "}\n",
       "\n",
       "/* On hover, darken the color of the background */\n",
       "#sk-container-id-4 div.sk-label:hover label.sk-toggleable__label {\n",
       "  color: var(--sklearn-color-text);\n",
       "  background-color: var(--sklearn-color-unfitted-level-2);\n",
       "}\n",
       "\n",
       "/* Label box, darken color on hover, fitted */\n",
       "#sk-container-id-4 div.sk-label.fitted:hover label.sk-toggleable__label.fitted {\n",
       "  color: var(--sklearn-color-text);\n",
       "  background-color: var(--sklearn-color-fitted-level-2);\n",
       "}\n",
       "\n",
       "/* Estimator label */\n",
       "\n",
       "#sk-container-id-4 div.sk-label label {\n",
       "  font-family: monospace;\n",
       "  font-weight: bold;\n",
       "  display: inline-block;\n",
       "  line-height: 1.2em;\n",
       "}\n",
       "\n",
       "#sk-container-id-4 div.sk-label-container {\n",
       "  text-align: center;\n",
       "}\n",
       "\n",
       "/* Estimator-specific */\n",
       "#sk-container-id-4 div.sk-estimator {\n",
       "  font-family: monospace;\n",
       "  border: 1px dotted var(--sklearn-color-border-box);\n",
       "  border-radius: 0.25em;\n",
       "  box-sizing: border-box;\n",
       "  margin-bottom: 0.5em;\n",
       "  /* unfitted */\n",
       "  background-color: var(--sklearn-color-unfitted-level-0);\n",
       "}\n",
       "\n",
       "#sk-container-id-4 div.sk-estimator.fitted {\n",
       "  /* fitted */\n",
       "  background-color: var(--sklearn-color-fitted-level-0);\n",
       "}\n",
       "\n",
       "/* on hover */\n",
       "#sk-container-id-4 div.sk-estimator:hover {\n",
       "  /* unfitted */\n",
       "  background-color: var(--sklearn-color-unfitted-level-2);\n",
       "}\n",
       "\n",
       "#sk-container-id-4 div.sk-estimator.fitted:hover {\n",
       "  /* fitted */\n",
       "  background-color: var(--sklearn-color-fitted-level-2);\n",
       "}\n",
       "\n",
       "/* Specification for estimator info (e.g. \"i\" and \"?\") */\n",
       "\n",
       "/* Common style for \"i\" and \"?\" */\n",
       "\n",
       ".sk-estimator-doc-link,\n",
       "a:link.sk-estimator-doc-link,\n",
       "a:visited.sk-estimator-doc-link {\n",
       "  float: right;\n",
       "  font-size: smaller;\n",
       "  line-height: 1em;\n",
       "  font-family: monospace;\n",
       "  background-color: var(--sklearn-color-background);\n",
       "  border-radius: 1em;\n",
       "  height: 1em;\n",
       "  width: 1em;\n",
       "  text-decoration: none !important;\n",
       "  margin-left: 0.5em;\n",
       "  text-align: center;\n",
       "  /* unfitted */\n",
       "  border: var(--sklearn-color-unfitted-level-1) 1pt solid;\n",
       "  color: var(--sklearn-color-unfitted-level-1);\n",
       "}\n",
       "\n",
       ".sk-estimator-doc-link.fitted,\n",
       "a:link.sk-estimator-doc-link.fitted,\n",
       "a:visited.sk-estimator-doc-link.fitted {\n",
       "  /* fitted */\n",
       "  border: var(--sklearn-color-fitted-level-1) 1pt solid;\n",
       "  color: var(--sklearn-color-fitted-level-1);\n",
       "}\n",
       "\n",
       "/* On hover */\n",
       "div.sk-estimator:hover .sk-estimator-doc-link:hover,\n",
       ".sk-estimator-doc-link:hover,\n",
       "div.sk-label-container:hover .sk-estimator-doc-link:hover,\n",
       ".sk-estimator-doc-link:hover {\n",
       "  /* unfitted */\n",
       "  background-color: var(--sklearn-color-unfitted-level-3);\n",
       "  color: var(--sklearn-color-background);\n",
       "  text-decoration: none;\n",
       "}\n",
       "\n",
       "div.sk-estimator.fitted:hover .sk-estimator-doc-link.fitted:hover,\n",
       ".sk-estimator-doc-link.fitted:hover,\n",
       "div.sk-label-container:hover .sk-estimator-doc-link.fitted:hover,\n",
       ".sk-estimator-doc-link.fitted:hover {\n",
       "  /* fitted */\n",
       "  background-color: var(--sklearn-color-fitted-level-3);\n",
       "  color: var(--sklearn-color-background);\n",
       "  text-decoration: none;\n",
       "}\n",
       "\n",
       "/* Span, style for the box shown on hovering the info icon */\n",
       ".sk-estimator-doc-link span {\n",
       "  display: none;\n",
       "  z-index: 9999;\n",
       "  position: relative;\n",
       "  font-weight: normal;\n",
       "  right: .2ex;\n",
       "  padding: .5ex;\n",
       "  margin: .5ex;\n",
       "  width: min-content;\n",
       "  min-width: 20ex;\n",
       "  max-width: 50ex;\n",
       "  color: var(--sklearn-color-text);\n",
       "  box-shadow: 2pt 2pt 4pt #999;\n",
       "  /* unfitted */\n",
       "  background: var(--sklearn-color-unfitted-level-0);\n",
       "  border: .5pt solid var(--sklearn-color-unfitted-level-3);\n",
       "}\n",
       "\n",
       ".sk-estimator-doc-link.fitted span {\n",
       "  /* fitted */\n",
       "  background: var(--sklearn-color-fitted-level-0);\n",
       "  border: var(--sklearn-color-fitted-level-3);\n",
       "}\n",
       "\n",
       ".sk-estimator-doc-link:hover span {\n",
       "  display: block;\n",
       "}\n",
       "\n",
       "/* \"?\"-specific style due to the `<a>` HTML tag */\n",
       "\n",
       "#sk-container-id-4 a.estimator_doc_link {\n",
       "  float: right;\n",
       "  font-size: 1rem;\n",
       "  line-height: 1em;\n",
       "  font-family: monospace;\n",
       "  background-color: var(--sklearn-color-background);\n",
       "  border-radius: 1rem;\n",
       "  height: 1rem;\n",
       "  width: 1rem;\n",
       "  text-decoration: none;\n",
       "  /* unfitted */\n",
       "  color: var(--sklearn-color-unfitted-level-1);\n",
       "  border: var(--sklearn-color-unfitted-level-1) 1pt solid;\n",
       "}\n",
       "\n",
       "#sk-container-id-4 a.estimator_doc_link.fitted {\n",
       "  /* fitted */\n",
       "  border: var(--sklearn-color-fitted-level-1) 1pt solid;\n",
       "  color: var(--sklearn-color-fitted-level-1);\n",
       "}\n",
       "\n",
       "/* On hover */\n",
       "#sk-container-id-4 a.estimator_doc_link:hover {\n",
       "  /* unfitted */\n",
       "  background-color: var(--sklearn-color-unfitted-level-3);\n",
       "  color: var(--sklearn-color-background);\n",
       "  text-decoration: none;\n",
       "}\n",
       "\n",
       "#sk-container-id-4 a.estimator_doc_link.fitted:hover {\n",
       "  /* fitted */\n",
       "  background-color: var(--sklearn-color-fitted-level-3);\n",
       "}\n",
       "</style><div id=\"sk-container-id-4\" class=\"sk-top-container\"><div class=\"sk-text-repr-fallback\"><pre>RandomForestClassifier(random_state=42)</pre><b>In a Jupyter environment, please rerun this cell to show the HTML representation or trust the notebook. <br />On GitHub, the HTML representation is unable to render, please try loading this page with nbviewer.org.</b></div><div class=\"sk-container\" hidden><div class=\"sk-item\"><div class=\"sk-estimator fitted sk-toggleable\"><input class=\"sk-toggleable__control sk-hidden--visually\" id=\"sk-estimator-id-4\" type=\"checkbox\" checked><label for=\"sk-estimator-id-4\" class=\"sk-toggleable__label fitted sk-toggleable__label-arrow\"><div><div>RandomForestClassifier</div></div><div><a class=\"sk-estimator-doc-link fitted\" rel=\"noreferrer\" target=\"_blank\" href=\"https://scikit-learn.org/1.6/modules/generated/sklearn.ensemble.RandomForestClassifier.html\">?<span>Documentation for RandomForestClassifier</span></a><span class=\"sk-estimator-doc-link fitted\">i<span>Fitted</span></span></div></label><div class=\"sk-toggleable__content fitted\"><pre>RandomForestClassifier(random_state=42)</pre></div> </div></div></div></div>"
      ],
      "text/plain": [
       "RandomForestClassifier(random_state=42)"
      ]
     },
     "execution_count": 79,
     "metadata": {},
     "output_type": "execute_result"
    }
   ],
   "source": [
    "# 1. Créer et entraîner ton modèle\n",
    "from sklearn.ensemble import RandomForestClassifier\n",
    "clf = RandomForestClassifier(n_estimators=100, random_state=42)\n",
    "\n",
    "clf.fit(X_train, y_train)  # <-- Entraînement réel ici"
   ]
  },
  {
   "cell_type": "markdown",
   "metadata": {
    "id": "mtMR0xLkf3jU"
   },
   "source": [
    "SAUVEGARDE DU MODELE"
   ]
  },
  {
   "cell_type": "code",
   "execution_count": null,
   "metadata": {},
   "outputs": [
    {
     "name": "stdout",
     "output_type": "stream",
     "text": [
      "Modèle sauvegardé avec succès dans : C:/Users/User/Desktop/Nouveau dossier/PROJET_DIT-20250506T153458Z-001/modele_insécurité_alimentaire_.pkl\n"
     ]
    }
   ],
   "source": [
    "import joblib\n",
    "\n",
    "file_path = \"C:/Users/User/Desktop/Nouveau dossier/PROJET_DIT-20250506T153458Z-001/modele_insécurité_alimentaire_.pkl\"\n",
    "\n",
    "# Sauvegarde du modèle RandomForest\n",
    "joblib.dump(model, file_path)\n",
    "\n",
    "print(f\"Modèle sauvegardé avec succès dans : {file_path}\")\n"
   ]
  },
  {
   "cell_type": "code",
   "execution_count": null,
   "metadata": {
    "colab": {
     "base_uri": "https://localhost:8080/"
    },
    "executionInfo": {
     "elapsed": 11,
     "status": "ok",
     "timestamp": 1746188884419,
     "user": {
      "displayName": "daouda dieme",
      "userId": "16090975305300597295"
     },
     "user_tz": 0
    },
    "id": "_9xz5oHBnvPS",
    "outputId": "4fb18464-ec0b-438f-8b8b-586bd51062f9"
   },
   "outputs": [
    {
     "name": "stdout",
     "output_type": "stream",
     "text": [
      "Modèle chargé avec succès !\n"
     ]
    }
   ],
   "source": [
    "import joblib\n",
    "\n",
    "# Chemin vers le fichier dans Google Drive\n",
    "file_path = 'C:/Users/User/Desktop/Nouveau dossier/PROJET_DIT-20250506T153458Z-001/modele_insécurité_alimentaire_.pkl'  # Corrected file name\n",
    "\n",
    "# Charger le modèle\n",
    "model = joblib.load(file_path)\n",
    "\n",
    "print(\"Modèle chargé avec succès !\")\n"
   ]
  },
  {
   "cell_type": "code",
   "execution_count": null,
   "metadata": {},
   "outputs": [],
   "source": [
    "import joblib\n",
    "\n",
    "# Entraîner le modèle avant de le sauvegarder\n",
    "model.fit(X_train_balanced, y_train_balanced)\n",
    "\n",
    "# Sauvegarde\n",
    "joblib.dump(model, 'modele_insecurite_alimentaire.pkl')\n",
    "\n",
    "# Chargement du modèle sauvegardé\n",
    "model = joblib.load('modele_insecurite_alimentaire.pkl')\n"
   ]
  },
  {
   "cell_type": "code",
   "execution_count": null,
   "metadata": {},
   "outputs": [
    {
     "name": "stdout",
     "output_type": "stream",
     "text": [
      "Répartition des classes dans X_test : (array([0, 1, 2]), array([489, 437,  85]))\n"
     ]
    }
   ],
   "source": [
    "print(\"Répartition des classes dans X_test :\", np.unique(y_test, return_counts=True))\n"
   ]
  },
  {
   "cell_type": "code",
   "execution_count": null,
   "metadata": {
    "colab": {
     "base_uri": "https://localhost:8080/"
    },
    "executionInfo": {
     "elapsed": 451,
     "status": "ok",
     "timestamp": 1746188890276,
     "user": {
      "displayName": "daouda dieme",
      "userId": "16090975305300597295"
     },
     "user_tz": 0
    },
    "id": "4mr2wDFIe4VC",
    "outputId": "5271a5ad-c985-409a-a556-967d2102f1ac"
   },
   "outputs": [
    {
     "name": "stdout",
     "output_type": "stream",
     "text": [
      "Le fichier app.py a été créé et enregistré dans : C:/Users/User/Desktop/Nouveau dossier/PROJET_DIT-20250506T153458Z-001/app_1_.py\n"
     ]
    }
   ],
   "source": [
    "# Contenu de votre fichier Flask `app.py`\n",
    "code = \"\"\"\n",
    "from flask import Flask, request, jsonify\n",
    "import joblib\n",
    "import pandas as pd\n",
    "\n",
    "# Charger le modèle sauvegardé\n",
    "model = joblib.load('C:/Users/User/Desktop/Nouveau dossier/PROJET_DIT-20250506T153458Z-001/modele_insécurité_alimentaire_1.pkl')\n",
    "\n",
    "# Initialiser l'application Flask\n",
    "app = Flask(__name__)\n",
    "\n",
    "@app.route('/predict', methods=['POST'])\n",
    "def predict():\n",
    "  try:\n",
    "    # Récupérer les données au format JSON\n",
    "    data = request.get_json()\n",
    "\n",
    "    # Convertir les données en DataFrame\n",
    "    input_data = pd.DataFrame([data])\n",
    "\n",
    "    # Faire une prédiction\n",
    "    prediction = model.predict(input_data)\n",
    "\n",
    "    # Retourner la prédiction au format JSON\n",
    "    response = {'prediction': int(prediction[0])}\n",
    "    return jsonify(response)\n",
    "    except Exception as e:\n",
    "        return jsonify({'error': str(e)})\n",
    "\n",
    "\n",
    "\n",
    "\n",
    "\n",
    "if __name__ == '__main__':\n",
    "    app.run(debug=True)\n",
    "\"\"\"\n",
    "\n",
    "# Spécifiez le chemin pour enregistrer le fichier `app.py`\n",
    "file_path = 'C:/Users/User/Desktop/Nouveau dossier/PROJET_DIT-20250506T153458Z-001/app_1_.py'\n",
    "\n",
    "# Écrire le contenu dans le fichier\n",
    "with open(file_path, 'w') as file:\n",
    "    file.write(code)\n",
    "\n",
    "print(f\"Le fichier app.py a été créé et enregistré dans : {file_path}\")\n"
   ]
  },
  {
   "cell_type": "code",
   "execution_count": null,
   "metadata": {},
   "outputs": [
    {
     "name": "stdout",
     "output_type": "stream",
     "text": [
      "Requirement already satisfied: flask in c:\\users\\user\\appdata\\local\\packages\\pythonsoftwarefoundation.python.3.11_qbz5n2kfra8p0\\localcache\\local-packages\\python311\\site-packages (3.1.0)\n",
      "Requirement already satisfied: Werkzeug>=3.1 in c:\\users\\user\\appdata\\local\\packages\\pythonsoftwarefoundation.python.3.11_qbz5n2kfra8p0\\localcache\\local-packages\\python311\\site-packages (from flask) (3.1.3)\n",
      "Requirement already satisfied: Jinja2>=3.1.2 in c:\\users\\user\\appdata\\local\\packages\\pythonsoftwarefoundation.python.3.11_qbz5n2kfra8p0\\localcache\\local-packages\\python311\\site-packages (from flask) (3.1.6)\n",
      "Requirement already satisfied: itsdangerous>=2.2 in c:\\users\\user\\appdata\\local\\packages\\pythonsoftwarefoundation.python.3.11_qbz5n2kfra8p0\\localcache\\local-packages\\python311\\site-packages (from flask) (2.2.0)\n",
      "Requirement already satisfied: click>=8.1.3 in c:\\users\\user\\appdata\\local\\packages\\pythonsoftwarefoundation.python.3.11_qbz5n2kfra8p0\\localcache\\local-packages\\python311\\site-packages (from flask) (8.1.8)\n",
      "Requirement already satisfied: blinker>=1.9 in c:\\users\\user\\appdata\\local\\packages\\pythonsoftwarefoundation.python.3.11_qbz5n2kfra8p0\\localcache\\local-packages\\python311\\site-packages (from flask) (1.9.0)\n",
      "Requirement already satisfied: colorama in c:\\users\\user\\appdata\\local\\packages\\pythonsoftwarefoundation.python.3.11_qbz5n2kfra8p0\\localcache\\local-packages\\python311\\site-packages (from click>=8.1.3->flask) (0.4.6)\n",
      "Requirement already satisfied: MarkupSafe>=2.0 in c:\\users\\user\\appdata\\local\\packages\\pythonsoftwarefoundation.python.3.11_qbz5n2kfra8p0\\localcache\\local-packages\\python311\\site-packages (from Jinja2>=3.1.2->flask) (3.0.2)\n"
     ]
    },
    {
     "name": "stderr",
     "output_type": "stream",
     "text": [
      "\n",
      "[notice] A new release of pip is available: 24.0 -> 25.1.1\n",
      "[notice] To update, run: C:\\Users\\User\\AppData\\Local\\Microsoft\\WindowsApps\\PythonSoftwareFoundation.Python.3.11_qbz5n2kfra8p0\\python.exe -m pip install --upgrade pip\n"
     ]
    }
   ],
   "source": [
    "!pip install flask\n",
    "\n"
   ]
  },
  {
   "cell_type": "code",
   "execution_count": null,
   "metadata": {
    "colab": {
     "base_uri": "https://localhost:8080/"
    },
    "executionInfo": {
     "elapsed": 205494,
     "status": "ok",
     "timestamp": 1746191565669,
     "user": {
      "displayName": "daouda dieme",
      "userId": "16090975305300597295"
     },
     "user_tz": 0
    },
    "id": "mFlC1AsZAnca",
    "outputId": "15c96d00-36b0-4520-fb32-7b2636006362"
   },
   "outputs": [
    {
     "name": "stdout",
     "output_type": "stream",
     "text": [
      " * Serving Flask app '__main__'\n",
      " * Debug mode: on\n"
     ]
    },
    {
     "name": "stderr",
     "output_type": "stream",
     "text": [
      "WARNING: This is a development server. Do not use it in a production deployment. Use a production WSGI server instead.\n",
      " * Running on http://127.0.0.1:5000\n",
      "Press CTRL+C to quit\n",
      " * Restarting with stat\n"
     ]
    },
    {
     "ename": "SystemExit",
     "evalue": "1",
     "output_type": "error",
     "traceback": [
      "An exception has occurred, use %tb to see the full traceback.\n",
      "\u001b[31mSystemExit\u001b[39m\u001b[31m:\u001b[39m 1\n"
     ]
    },
    {
     "name": "stderr",
     "output_type": "stream",
     "text": [
      "C:\\Users\\User\\AppData\\Local\\Packages\\PythonSoftwareFoundation.Python.3.11_qbz5n2kfra8p0\\LocalCache\\local-packages\\Python311\\site-packages\\IPython\\core\\interactiveshell.py:3678: UserWarning: To exit: use 'exit', 'quit', or Ctrl-D.\n",
      "  warn(\"To exit: use 'exit', 'quit', or Ctrl-D.\", stacklevel=1)\n"
     ]
    }
   ],
   "source": [
    "from flask import Flask, request, jsonify\n",
    "import joblib\n",
    "import pandas as pd\n",
    "\n",
    "app = Flask(__name__)\n",
    "\n",
    "# Charger le modèle\n",
    "model = joblib.load('C:/Users/User/Desktop/Nouveau dossier/PROJET_DIT-20250506T153458Z-001/modele_insécurité_alimentaire.pkl')\n",
    "\n",
    "@app.route('/')\n",
    "def home():\n",
    "    return \"Bienvenue à l'API de prédiction.\"\n",
    "\n",
    "@app.route('/predict', methods=['POST'])\n",
    "def predict():\n",
    "    try:\n",
    "        # Récupérer les données JSON envoyées dans la requête\n",
    "        data = request.get_json()\n",
    "        \n",
    "        if not data:\n",
    "            return jsonify({'error': 'Aucune donnée reçue'}), 400\n",
    "        \n",
    "        # Convertir les données en DataFrame\n",
    "        input_data = pd.DataFrame([data])\n",
    "\n",
    "        # Vérifier que toutes les colonnes attendues sont présentes\n",
    "        expected_columns = [\n",
    "            \"q601_ne_pas_manger_nourriture_saine_nutritive\",\n",
    "            \"q602_manger_nourriture_peu_variee\",\n",
    "            \"q600_inquiets_de_ne_pas_avoir_suffisamment_de_nourriture\",\n",
    "            \"q604_manger_moins_que_ce_que_vous_auriez_du\",\n",
    "            \"q603_sauter_un_repas\",\n",
    "            \"q606_1_avoir_faim_mais_ne_pas_manger\",\n",
    "            \"q605_1_ne_plus_avoir_de_nourriture_pas_suffisamment_d_argent\",\n",
    "            \"q607_1_passer_toute_une_journée_sans_manger\",\n",
    "            \"LCSI_24__r_AP\",\n",
    "            \"GCA_112_28\"\n",
    "        ]\n",
    "\n",
    "        # Vérifier les colonnes manquantes\n",
    "        missing_columns = [col for col in expected_columns if col not in input_data.columns]\n",
    "        if missing_columns:\n",
    "            return jsonify({'error': f'Colonnes manquantes : {missing_columns}'}), 400\n",
    "\n",
    "        # Effectuer la prédiction\n",
    "        prediction = model.predict(input_data)\n",
    "\n",
    "        # Retourner la prédiction sous forme de réponse JSON\n",
    "        response = {'prediction': int(prediction[0])}\n",
    "        return jsonify(response)\n",
    "\n",
    "    except Exception as e:\n",
    "        return jsonify({'error': str(e)}), 500\n",
    "\n",
    "if __name__ == '__main__':\n",
    "    # Lancer l'application Flask localement\n",
    "    app.run(port=5000, debug=True)\n"
   ]
  },
  {
   "cell_type": "code",
   "execution_count": null,
   "metadata": {},
   "outputs": [
    {
     "name": "stdout",
     "output_type": "stream",
     "text": [
      "Requirement already satisfied: requests in c:\\users\\user\\appdata\\local\\packages\\pythonsoftwarefoundation.python.3.11_qbz5n2kfra8p0\\localcache\\local-packages\\python311\\site-packages (2.32.3)\n",
      "Requirement already satisfied: charset-normalizer<4,>=2 in c:\\users\\user\\appdata\\local\\packages\\pythonsoftwarefoundation.python.3.11_qbz5n2kfra8p0\\localcache\\local-packages\\python311\\site-packages (from requests) (3.4.2)\n",
      "Requirement already satisfied: idna<4,>=2.5 in c:\\users\\user\\appdata\\local\\packages\\pythonsoftwarefoundation.python.3.11_qbz5n2kfra8p0\\localcache\\local-packages\\python311\\site-packages (from requests) (3.10)\n",
      "Requirement already satisfied: urllib3<3,>=1.21.1 in c:\\users\\user\\appdata\\local\\packages\\pythonsoftwarefoundation.python.3.11_qbz5n2kfra8p0\\localcache\\local-packages\\python311\\site-packages (from requests) (2.4.0)\n",
      "Requirement already satisfied: certifi>=2017.4.17 in c:\\users\\user\\appdata\\local\\packages\\pythonsoftwarefoundation.python.3.11_qbz5n2kfra8p0\\localcache\\local-packages\\python311\\site-packages (from requests) (2025.4.26)\n",
      "Note: you may need to restart the kernel to use updated packages.\n"
     ]
    },
    {
     "name": "stderr",
     "output_type": "stream",
     "text": [
      "\n",
      "[notice] A new release of pip is available: 24.0 -> 25.1.1\n",
      "[notice] To update, run: C:\\Users\\User\\AppData\\Local\\Microsoft\\WindowsApps\\PythonSoftwareFoundation.Python.3.11_qbz5n2kfra8p0\\python.exe -m pip install --upgrade pip\n"
     ]
    }
   ],
   "source": [
    "pip install requests\n"
   ]
  },
  {
   "cell_type": "code",
   "execution_count": null,
   "metadata": {},
   "outputs": [],
   "source": [
    "expected_features = [\n",
    "    \"q601_ne_pas_manger_nourriture_saine_nutritive\", \"q602_manger_nourriture_peu_variee\",\n",
    "    \"q600_inquiets_de_ne_pas_avoir_suffisamment_de_nourriture\", \"q604_manger_moins_que_ce_que_vous_auriez_du\",\n",
    "    \"q603_sauter_un_repas\", \"q606_1_avoir_faim_mais_ne_pas_manger\", \"q605_1_ne_plus_avoir_de_nourriture_pas_suffisamment_d_argent\",\n",
    "    \"q607_1_passer_toute_une_journee_sans_manger\", \"LCSI_24__r_AP\", \"GCA_112_28\"\n",
    "]\n"
   ]
  },
  {
   "cell_type": "code",
   "execution_count": null,
   "metadata": {},
   "outputs": [
    {
     "name": "stdout",
     "output_type": "stream",
     "text": [
      "Colonnes attendues : ['q601_ne_pas_manger_nourriture_saine_nutritive', 'q602_manger_nourriture_peu_variee', 'q600_inquiets_de_ne_pas_avoir_suffisamment_de_nourriture', 'q604_manger_moins_que_ce_que_vous_auriez_du', 'q603_sauter_un_repas', 'q606_1_avoir_faim_mais_ne_pas_manger', 'q605_1_ne_plus_avoir_de_nourriture_pas_suffisamment_d_argent', 'q607_1_passer_toute_une_journee_sans_manger', 'LCSI_24__r_AP', 'GCA_112_28']\n",
      "Colonnes envoyées : ['q100_region', 'q101_departement', 'q114_1_situation_matrimoniale_cm', 'q115_1_cm_souffre_t_il_maladie_chronique', 'q116_0_taille_menage', 'q206_1_type_toilette_utilise', 'q207_1_principale_source_energie_cuisson', 'q208_1_principale_source_energie_eclairage', 'q209_1_principale_source_eau_boisson', 'q210_1_principal_mode_evacuation_dechets_solides', 'q211_1_principal_mode_evacuation_eaux_usees', 'q212_1_principal_mode_evacuation_boues_vidange', 'q214_1_pratique_agricole_derniere_campagne', 'q215_1_si_oui_a_quelle_date_avez_vous_seme', 'q215_2_si_vous_avez_resseme_precisez_la_date', 'q220_1_mode_acquisition_semences', 'q226_pratiquer_elevage', 'q228_evolution_espece_par_rapport_annee_passee', 'q236_1_cash_transfert', 'q236_2_bons_achat_alimentaire', 'q236_3_bourses_securite_familiale', 'q236_4_couverture_maladie_universelle', 'q400_1_principale_source_revenu', 'q401_1_montant_total_revenus_menage', 'q402_1_montant_revenu_agriculture_30_derniers_jours', 'q402_2_montant_revenu_elevage_30_derniers_jours', 'q402_3_montant_revenu_peche_30_derniers_jours', 'q402_4_montant_revenu_commerce_30_derniers_jours', 'q402_5_montant_revenu_salaire_30_derniers_jours', 'q402_7_montant_revenu_transferts_30_derniers_jours', 'q402_8_montant_revenu_dons_30_derniers_jours', 'q403_1_montant_depense_alimentation', 'q403_2_montant_depense_eau_electricite_gaz_eclairage', 'q403_3_montant_depense_transport_30_derniers_jours', 'q403_4_montant_depense_sante_30_derniers_jours', 'q403_5_montant_depense_education', 'q501_probleme_sante_membre_12_derniers_mois', 'q502_1_probleme_sante_plus_serieux', 'q506_distance_lieu_traitement', 'q508_distance_lieu_approvisionnement_marche_cm', 'q512_1_vendre_plus_animaux', 'POIDS_DR', 'POIDS_DR_REDRESS', 'GCA_112_28', 'rCSI_r', 'DEPENSES_TOTALES', 'DEPENSES_ALIMENTAIRES', 'PDAM', 'PDAM__r', 'TYPE_TOILETTE', 'SOURCE_EAU_BOISSON', 'ENERGIE_CUISSON', 'DISTANCE_LIEU_TRAITEMENT', 'DISTANCE_MARCHE_APPROVISIONNEMENT', 'rCSI__r_AP', 'PDAM__r_AP', 'HHS__r_AP', 'LCSI_24__r_AP', 'GCA_112_28_AP', 'HDDS__r_AP', 'CASH_TRANSFERT', 'CHOCS', 'SECHERESSE', 'CASH_TRANSFERT_MONTANT', 'BON_ACHAT_ALIM_MONTANT', 'CASH_TRANSFERT_MONTANT_AP', 'BON_ACHAT_ALIM_MONTANT_AP', 'CASH_TRANSFERT_MONTANT_AP_RECU', 'BON_ACHAT_ALIM_MONTANT_AP_RECU', 'TAILLE_MEN', 'PRATIQUE_AGRICOLE', 'MALADIE_CHRONIQUE_r', 'PRATIQUE_ELEVAGE', 'MALADIE_CHRONIQUE_rrr', 'PRATIQUE_PECHE', 'PRATIQUE_FORESTERIE', 'SITUATION_MATRIMONIALE', 'RAISON_NON_PRATIQUE_AGRICOLE', 'RESEMIS', 'MODE_ACCES_TERRE', 'AVEZ_VOUS_RECOLTEZ', 'MILIEU_RESIDENCE', 'SEXE', 'q113_7_niveau_instruction', 'q113_8_categorie_socio_professionnelle', 'AGE', 'NIVEAU_INSTRUCTION', 'CATEGORIE_SOCIA_ECO', 'HAUTEUR_PARTICIPATION', 'q600_inquiets_de_ne_pas_avoir_suffisamment_de_nourriture', 'q601_ne_pas_manger_nourriture_saine_nutritive', 'q602_manger_nourriture_peu_variee', 'q603_sauter_un_repas', 'q604_manger_moins_que_ce_que_vous_auriez_du', 'q605_1_ne_plus_avoir_de_nourriture_pas_suffisamment_d_argent', 'q606_1_avoir_faim_mais_ne_pas_manger', 'q607_1_passer_toute_une_journee_sans_manger', 'insécurité_alimentaire']\n"
     ]
    }
   ],
   "source": [
    "print(\"Colonnes attendues :\", expected_features)\n",
    "print(\"Colonnes envoyées :\", list(data.keys()))\n"
   ]
  },
  {
   "cell_type": "code",
   "execution_count": null,
   "metadata": {},
   "outputs": [
    {
     "name": "stdout",
     "output_type": "stream",
     "text": [
      "(array([0, 1, 2]), array([1966, 1776,  301]))\n"
     ]
    }
   ],
   "source": [
    "print(np.unique(y_train, return_counts=True))\n"
   ]
  },
  {
   "cell_type": "code",
   "execution_count": null,
   "metadata": {},
   "outputs": [],
   "source": []
  },
  {
   "cell_type": "code",
   "execution_count": null,
   "metadata": {},
   "outputs": [],
   "source": [
    "from sklearn.ensemble import RandomForestClassifier\n",
    "from xgboost import XGBClassifier\n",
    "from sklearn.model_selection import cross_val_score\n",
    "from sklearn.metrics import classification_report\n",
    "\n",
    "# 🔁 Remapping des classes\n",
    "y_train_mapped = y_train.replace({1: 0, 2: 1})\n",
    "y_test_mapped = y_test.replace({1: 0, 2: 1})\n",
    "\n",
    "# 🌲 Random Forest avec régularisation\n",
    "rf_model = RandomForestClassifier(\n",
    "    n_estimators=100,\n",
    "    max_depth=4,              # Réduction de la profondeur\n",
    "    min_samples_leaf=10,      # Plus de régularisation\n",
    "    max_features='sqrt',\n",
    "    class_weight='balanced',\n",
    "    random_state=42\n",
    ")\n",
    "\n",
    "\n",
    "# 🚀 XGBoost avec régularisation\n",
    "xgb_model = XGBClassifier(\n",
    "    n_estimators=100,\n",
    "    max_depth=6,\n",
    "    learning_rate=0.1,\n",
    "    subsample=0.8,\n",
    "    colsample_bytree=0.8,\n",
    "    reg_alpha=0.5,  # L1 regularization\n",
    "    reg_lambda=1.0, # L2 regularization\n",
    "    scale_pos_weight=1,\n",
    "    eval_metric='logloss',\n",
    "    random_state=42\n",
    ")\n",
    "\n",
    "# 📊 Entraînement et évaluation\n",
    "for name, model in [(\"Random Forest\", rf_model), (\"XGBoost\", xgb_model)]:\n",
    "    model.fit(X_train, y_train_mapped)\n",
    "    predictions = model.predict(X_test)\n",
    "    print(f\"\\n📈 Rapport de classification pour {name} :\")\n",
    "    print(classification_report(y_test_mapped, predictions))\n",
    "\n",
    "    # 🔍 Validation croisée pour détecter l’overfitting\n",
    "    cv_scores = cross_val_score(model, X_train, y_train_mapped, cv=5, scoring='accuracy')\n",
    "    print(f\"✅ Score moyen CV ({name}) : {cv_scores.mean():.4f}\")\n"
   ]
  },
  {
   "cell_type": "code",
   "execution_count": null,
   "metadata": {},
   "outputs": [],
   "source": []
  },
  {
   "cell_type": "code",
   "execution_count": null,
   "metadata": {},
   "outputs": [],
   "source": []
  }
 ],
 "metadata": {
  "accelerator": "GPU",
  "colab": {
   "gpuType": "T4",
   "provenance": [
    {
     "file_id": "1QTvgexvIMoFI2sAKiBLBWhsY8bFog3HV",
     "timestamp": 1744284077508
    },
    {
     "file_id": "10bpUXsyDRHDVXh2DEUnMRNdm0DvQk70-",
     "timestamp": 1742769126218
    }
   ]
  },
  "kernelspec": {
   "display_name": ".venv",
   "language": "python",
   "name": "python3"
  },
  "language_info": {
   "codemirror_mode": {
    "name": "ipython",
    "version": 3
   },
   "file_extension": ".py",
   "mimetype": "text/x-python",
   "name": "python",
   "nbconvert_exporter": "python",
   "pygments_lexer": "ipython3",
   "version": "3.13.5"
  }
 },
 "nbformat": 4,
 "nbformat_minor": 0
}
